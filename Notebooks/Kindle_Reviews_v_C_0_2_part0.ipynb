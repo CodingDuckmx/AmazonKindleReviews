{
  "nbformat": 4,
  "nbformat_minor": 0,
  "metadata": {
    "colab": {
      "name": "Kindle Reviews v_C_0_2_part0.ipynb",
      "provenance": [],
      "collapsed_sections": [],
      "machine_shape": "hm",
      "mount_file_id": "1wI3xHWde47dP8LcIg28H8I1TkmLNER8q",
      "authorship_tag": "ABX9TyN4GsPA5+dzfKNpyubdfi41",
      "include_colab_link": true
    },
    "kernelspec": {
      "name": "python3",
      "display_name": "Python 3"
    }
  },
  "cells": [
    {
      "cell_type": "markdown",
      "metadata": {
        "id": "view-in-github",
        "colab_type": "text"
      },
      "source": [
        "<a href=\"https://colab.research.google.com/github/CodingDuckmx/AmazonKindleReviews/blob/master/Notebooks/Kindle_Reviews_v_C_0_2_part0.ipynb\" target=\"_parent\"><img src=\"https://colab.research.google.com/assets/colab-badge.svg\" alt=\"Open In Colab\"/></a>"
      ]
    },
    {
      "cell_type": "markdown",
      "metadata": {
        "id": "edZSFCUre2uS",
        "colab_type": "text"
      },
      "source": [
        "Info about the data set.\n",
        "\n",
        "columns:\n",
        "\n",
        "\n",
        "    asin - ID of the product, e.g. 0000031852\n",
        "    vote - helpful votes of the review\n",
        "\n"
      ]
    },
    {
      "cell_type": "markdown",
      "metadata": {
        "id": "k36uaGu8rURJ",
        "colab_type": "text"
      },
      "source": [
        "# Import libraries section."
      ]
    },
    {
      "cell_type": "code",
      "metadata": {
        "id": "En2Js-htrXnE",
        "colab_type": "code",
        "colab": {}
      },
      "source": [
        "import os\n",
        "import gzip\n",
        "import json\n",
        "import pandas as pd\n",
        "import numpy as np\n",
        "import matplotlib.pyplot as plt\n",
        "from urllib.request import urlopen\n",
        "import string\n",
        "import seaborn as sns\n",
        "import pickle\n",
        "\n",
        "\n",
        "\n",
        "## Half fun half work\n",
        "from IPython.display import Audio"
      ],
      "execution_count": 0,
      "outputs": []
    },
    {
      "cell_type": "markdown",
      "metadata": {
        "id": "NwW0B2L_HVxH",
        "colab_type": "text"
      },
      "source": [
        "# Area 501"
      ]
    },
    {
      "cell_type": "code",
      "metadata": {
        "id": "3_WRllg1IU2R",
        "colab_type": "code",
        "colab": {}
      },
      "source": [
        "#  !wget http://deepyeti.ucsd.edu/jianmo/amazon/categoryFilesSmall/Kindle_Store_5.json.gz"
      ],
      "execution_count": 0,
      "outputs": []
    },
    {
      "cell_type": "code",
      "metadata": {
        "id": "TZv8enp3HYvE",
        "colab_type": "code",
        "outputId": "a1b6edf5-e395-43b2-c29a-ca40c770acfb",
        "colab": {
          "base_uri": "https://localhost:8080/",
          "height": 72
        }
      },
      "source": [
        "# Decompress the file\n",
        "\n",
        "data = []\n",
        "with gzip.open('Kindle_Store_5.json.gz') as f:\n",
        "    for l in f:\n",
        "        data.append(json.loads(l.strip()))\n",
        "    \n",
        "# total length of list, this number equals total number of products\n",
        "print(len(data))\n",
        "\n",
        "# first row of the list\n",
        "print(data[0])"
      ],
      "execution_count": 0,
      "outputs": [
        {
          "output_type": "stream",
          "text": [
            "2222983\n",
            "{'overall': 4.0, 'verified': True, 'reviewTime': '07 3, 2014', 'reviewerID': 'A2LSKD2H9U8N0J', 'asin': 'B000FA5KK0', 'style': {'Format:': ' Kindle Edition'}, 'reviewerName': 'sandra sue marsolek', 'reviewText': 'pretty good story, a little exaggerated, but I liked it pretty well.  liked the characters, the plot..it had mystery, action, love, all of the main things. I think most western lovers would injoy this book', 'summary': 'pretty good story', 'unixReviewTime': 1404345600}\n"
          ],
          "name": "stdout"
        }
      ]
    },
    {
      "cell_type": "code",
      "metadata": {
        "id": "wu3oR70kPApJ",
        "colab_type": "code",
        "outputId": "b3b41aa3-5c65-424a-cd59-e9b7458b1783",
        "colab": {
          "base_uri": "https://localhost:8080/",
          "height": 467
        }
      },
      "source": [
        "### Convert the file into a DataFram\n",
        "\n",
        "kr = pd.DataFrame.from_dict(data)\n",
        "\n",
        "print(kr.shape)\n",
        "\n",
        "kr.head()"
      ],
      "execution_count": 0,
      "outputs": [
        {
          "output_type": "stream",
          "text": [
            "(2222983, 12)\n"
          ],
          "name": "stdout"
        },
        {
          "output_type": "execute_result",
          "data": {
            "text/html": [
              "<div>\n",
              "<style scoped>\n",
              "    .dataframe tbody tr th:only-of-type {\n",
              "        vertical-align: middle;\n",
              "    }\n",
              "\n",
              "    .dataframe tbody tr th {\n",
              "        vertical-align: top;\n",
              "    }\n",
              "\n",
              "    .dataframe thead th {\n",
              "        text-align: right;\n",
              "    }\n",
              "</style>\n",
              "<table border=\"1\" class=\"dataframe\">\n",
              "  <thead>\n",
              "    <tr style=\"text-align: right;\">\n",
              "      <th></th>\n",
              "      <th>overall</th>\n",
              "      <th>verified</th>\n",
              "      <th>reviewTime</th>\n",
              "      <th>reviewerID</th>\n",
              "      <th>asin</th>\n",
              "      <th>style</th>\n",
              "      <th>reviewerName</th>\n",
              "      <th>reviewText</th>\n",
              "      <th>summary</th>\n",
              "      <th>unixReviewTime</th>\n",
              "      <th>vote</th>\n",
              "      <th>image</th>\n",
              "    </tr>\n",
              "  </thead>\n",
              "  <tbody>\n",
              "    <tr>\n",
              "      <th>0</th>\n",
              "      <td>4.0</td>\n",
              "      <td>True</td>\n",
              "      <td>07 3, 2014</td>\n",
              "      <td>A2LSKD2H9U8N0J</td>\n",
              "      <td>B000FA5KK0</td>\n",
              "      <td>{'Format:': ' Kindle Edition'}</td>\n",
              "      <td>sandra sue marsolek</td>\n",
              "      <td>pretty good story, a little exaggerated, but I...</td>\n",
              "      <td>pretty good story</td>\n",
              "      <td>1404345600</td>\n",
              "      <td>NaN</td>\n",
              "      <td>NaN</td>\n",
              "    </tr>\n",
              "    <tr>\n",
              "      <th>1</th>\n",
              "      <td>5.0</td>\n",
              "      <td>True</td>\n",
              "      <td>05 26, 2014</td>\n",
              "      <td>A2QP13XTJND1QS</td>\n",
              "      <td>B000FA5KK0</td>\n",
              "      <td>{'Format:': ' Kindle Edition'}</td>\n",
              "      <td>Tpl</td>\n",
              "      <td>If you've read other max brand westerns, you k...</td>\n",
              "      <td>A very good book</td>\n",
              "      <td>1401062400</td>\n",
              "      <td>NaN</td>\n",
              "      <td>NaN</td>\n",
              "    </tr>\n",
              "    <tr>\n",
              "      <th>2</th>\n",
              "      <td>5.0</td>\n",
              "      <td>True</td>\n",
              "      <td>09 16, 2016</td>\n",
              "      <td>A8WQ7MAG3HFOZ</td>\n",
              "      <td>B000FA5KK0</td>\n",
              "      <td>{'Format:': ' Kindle Edition'}</td>\n",
              "      <td>Alverne F. Anderson</td>\n",
              "      <td>Love Max, always a fun twist</td>\n",
              "      <td>Five Stars</td>\n",
              "      <td>1473984000</td>\n",
              "      <td>NaN</td>\n",
              "      <td>NaN</td>\n",
              "    </tr>\n",
              "    <tr>\n",
              "      <th>3</th>\n",
              "      <td>5.0</td>\n",
              "      <td>True</td>\n",
              "      <td>03 3, 2016</td>\n",
              "      <td>A1E0MODSRYP7O</td>\n",
              "      <td>B000FA5KK0</td>\n",
              "      <td>{'Format:': ' Kindle Edition'}</td>\n",
              "      <td>Jeff</td>\n",
              "      <td>As usual for him, a good book</td>\n",
              "      <td>a good</td>\n",
              "      <td>1456963200</td>\n",
              "      <td>NaN</td>\n",
              "      <td>NaN</td>\n",
              "    </tr>\n",
              "    <tr>\n",
              "      <th>4</th>\n",
              "      <td>5.0</td>\n",
              "      <td>True</td>\n",
              "      <td>09 10, 2015</td>\n",
              "      <td>AYUTCGVSM1H7T</td>\n",
              "      <td>B000FA5KK0</td>\n",
              "      <td>{'Format:': ' Kindle Edition'}</td>\n",
              "      <td>DEHS - EddyRapcon</td>\n",
              "      <td>MB is one of the original western writers and ...</td>\n",
              "      <td>A Western</td>\n",
              "      <td>1441843200</td>\n",
              "      <td>2</td>\n",
              "      <td>NaN</td>\n",
              "    </tr>\n",
              "  </tbody>\n",
              "</table>\n",
              "</div>"
            ],
            "text/plain": [
              "   overall  verified   reviewTime  ... unixReviewTime vote image\n",
              "0      4.0      True   07 3, 2014  ...     1404345600  NaN   NaN\n",
              "1      5.0      True  05 26, 2014  ...     1401062400  NaN   NaN\n",
              "2      5.0      True  09 16, 2016  ...     1473984000  NaN   NaN\n",
              "3      5.0      True   03 3, 2016  ...     1456963200  NaN   NaN\n",
              "4      5.0      True  09 10, 2015  ...     1441843200    2   NaN\n",
              "\n",
              "[5 rows x 12 columns]"
            ]
          },
          "metadata": {
            "tags": []
          },
          "execution_count": 5
        }
      ]
    },
    {
      "cell_type": "markdown",
      "metadata": {
        "id": "Hsa_xLj3vtzw",
        "colab_type": "text"
      },
      "source": [
        "The format in the Style and image column may difficult the identification of the type of the values, so I'll force to become strings."
      ]
    },
    {
      "cell_type": "code",
      "metadata": {
        "id": "yZNdjUpBYLhh",
        "colab_type": "code",
        "colab": {}
      },
      "source": [
        "kr['style'] = kr['style'].astype(str)\n",
        "kr['image'] = kr['image'].astype(str)"
      ],
      "execution_count": 0,
      "outputs": []
    },
    {
      "cell_type": "markdown",
      "metadata": {
        "id": "io-R-Y8JpEyj",
        "colab_type": "text"
      },
      "source": [
        "Checking for type, null values and null values."
      ]
    },
    {
      "cell_type": "code",
      "metadata": {
        "id": "N_7tq8W8TFWe",
        "colab_type": "code",
        "outputId": "f84104a6-694e-4b7a-b0a2-6bc6669b346a",
        "colab": {
          "base_uri": "https://localhost:8080/",
          "height": 426
        }
      },
      "source": [
        "infodf = pd.concat([pd.DataFrame(kr.dtypes),pd.DataFrame(kr.isnull().sum()),pd.DataFrame(round((kr.isnull().sum() / len(kr)) * 100 , 2)), pd.DataFrame(kr.nunique()), pd.DataFrame(round(kr.nunique()/ len(kr) *100,2))], axis=1, join='inner')\n",
        "\n",
        "infodf.columns = ['Type','Null values', '% of NaNs', 'Unique values', '% of unique values']\n",
        "infodf = infodf.sort_values(by=['Type','Null values', 'Unique values'])\n",
        "\n",
        "infodf.head(15)"
      ],
      "execution_count": 0,
      "outputs": [
        {
          "output_type": "execute_result",
          "data": {
            "text/html": [
              "<div>\n",
              "<style scoped>\n",
              "    .dataframe tbody tr th:only-of-type {\n",
              "        vertical-align: middle;\n",
              "    }\n",
              "\n",
              "    .dataframe tbody tr th {\n",
              "        vertical-align: top;\n",
              "    }\n",
              "\n",
              "    .dataframe thead th {\n",
              "        text-align: right;\n",
              "    }\n",
              "</style>\n",
              "<table border=\"1\" class=\"dataframe\">\n",
              "  <thead>\n",
              "    <tr style=\"text-align: right;\">\n",
              "      <th></th>\n",
              "      <th>Type</th>\n",
              "      <th>Null values</th>\n",
              "      <th>% of NaNs</th>\n",
              "      <th>Unique values</th>\n",
              "      <th>% of unique values</th>\n",
              "    </tr>\n",
              "  </thead>\n",
              "  <tbody>\n",
              "    <tr>\n",
              "      <th>verified</th>\n",
              "      <td>bool</td>\n",
              "      <td>0</td>\n",
              "      <td>0.00</td>\n",
              "      <td>2</td>\n",
              "      <td>0.00</td>\n",
              "    </tr>\n",
              "    <tr>\n",
              "      <th>unixReviewTime</th>\n",
              "      <td>int64</td>\n",
              "      <td>0</td>\n",
              "      <td>0.00</td>\n",
              "      <td>4838</td>\n",
              "      <td>0.22</td>\n",
              "    </tr>\n",
              "    <tr>\n",
              "      <th>overall</th>\n",
              "      <td>float64</td>\n",
              "      <td>0</td>\n",
              "      <td>0.00</td>\n",
              "      <td>5</td>\n",
              "      <td>0.00</td>\n",
              "    </tr>\n",
              "    <tr>\n",
              "      <th>style</th>\n",
              "      <td>object</td>\n",
              "      <td>0</td>\n",
              "      <td>0.00</td>\n",
              "      <td>27</td>\n",
              "      <td>0.00</td>\n",
              "    </tr>\n",
              "    <tr>\n",
              "      <th>image</th>\n",
              "      <td>object</td>\n",
              "      <td>0</td>\n",
              "      <td>0.00</td>\n",
              "      <td>1242</td>\n",
              "      <td>0.06</td>\n",
              "    </tr>\n",
              "    <tr>\n",
              "      <th>reviewTime</th>\n",
              "      <td>object</td>\n",
              "      <td>0</td>\n",
              "      <td>0.00</td>\n",
              "      <td>4838</td>\n",
              "      <td>0.22</td>\n",
              "    </tr>\n",
              "    <tr>\n",
              "      <th>asin</th>\n",
              "      <td>object</td>\n",
              "      <td>0</td>\n",
              "      <td>0.00</td>\n",
              "      <td>98824</td>\n",
              "      <td>4.45</td>\n",
              "    </tr>\n",
              "    <tr>\n",
              "      <th>reviewerID</th>\n",
              "      <td>object</td>\n",
              "      <td>0</td>\n",
              "      <td>0.00</td>\n",
              "      <td>139824</td>\n",
              "      <td>6.29</td>\n",
              "    </tr>\n",
              "    <tr>\n",
              "      <th>reviewerName</th>\n",
              "      <td>object</td>\n",
              "      <td>127</td>\n",
              "      <td>0.01</td>\n",
              "      <td>102643</td>\n",
              "      <td>4.62</td>\n",
              "    </tr>\n",
              "    <tr>\n",
              "      <th>reviewText</th>\n",
              "      <td>object</td>\n",
              "      <td>403</td>\n",
              "      <td>0.02</td>\n",
              "      <td>2114480</td>\n",
              "      <td>95.12</td>\n",
              "    </tr>\n",
              "    <tr>\n",
              "      <th>summary</th>\n",
              "      <td>object</td>\n",
              "      <td>1755</td>\n",
              "      <td>0.08</td>\n",
              "      <td>1260992</td>\n",
              "      <td>56.73</td>\n",
              "    </tr>\n",
              "    <tr>\n",
              "      <th>vote</th>\n",
              "      <td>object</td>\n",
              "      <td>1931032</td>\n",
              "      <td>86.87</td>\n",
              "      <td>274</td>\n",
              "      <td>0.01</td>\n",
              "    </tr>\n",
              "  </tbody>\n",
              "</table>\n",
              "</div>"
            ],
            "text/plain": [
              "                   Type  Null values  ...  Unique values  % of unique values\n",
              "verified           bool            0  ...              2                0.00\n",
              "unixReviewTime    int64            0  ...           4838                0.22\n",
              "overall         float64            0  ...              5                0.00\n",
              "style            object            0  ...             27                0.00\n",
              "image            object            0  ...           1242                0.06\n",
              "reviewTime       object            0  ...           4838                0.22\n",
              "asin             object            0  ...          98824                4.45\n",
              "reviewerID       object            0  ...         139824                6.29\n",
              "reviewerName     object          127  ...         102643                4.62\n",
              "reviewText       object          403  ...        2114480               95.12\n",
              "summary          object         1755  ...        1260992               56.73\n",
              "vote             object      1931032  ...            274                0.01\n",
              "\n",
              "[12 rows x 5 columns]"
            ]
          },
          "metadata": {
            "tags": []
          },
          "execution_count": 7
        }
      ]
    },
    {
      "cell_type": "code",
      "metadata": {
        "id": "hky1gJOwOiJx",
        "colab_type": "code",
        "outputId": "fea396ed-beff-476c-e659-855c6595eaf7",
        "colab": {
          "base_uri": "https://localhost:8080/",
          "height": 72
        }
      },
      "source": [
        "### Notice\n",
        "\n",
        "unique_reviewsText = infodf.loc['reviewText','Unique values']\n",
        "\n",
        "duplicate_reviewText = len(kr) - unique_reviewsText - 1\n",
        "\n",
        "print(f'Notice: we have {len(kr)} rows in the dataframe but we olny have {unique_reviewsText} unique rows, so we have some identical rows we have to get rid of.')\n",
        "print(f'So, we have {duplicate_reviewText} rows duplicated.')\n",
        "\n"
      ],
      "execution_count": 0,
      "outputs": [
        {
          "output_type": "stream",
          "text": [
            "Notice: we have 2222983 rows in the dataframe but we olny have 2114480 unique rows, so we have some identical rows we have to get rid of.\n",
            "So, we have 108502 rows duplicated.\n"
          ],
          "name": "stdout"
        }
      ]
    },
    {
      "cell_type": "markdown",
      "metadata": {
        "id": "sqZmnrSypsot",
        "colab_type": "text"
      },
      "source": [
        "Checking for type, null values and null values, once again."
      ]
    },
    {
      "cell_type": "code",
      "metadata": {
        "id": "3q_-HVvOOiYL",
        "colab_type": "code",
        "outputId": "ab042afe-f11c-47b0-f4f4-4004e3c30124",
        "colab": {
          "base_uri": "https://localhost:8080/",
          "height": 426
        }
      },
      "source": [
        "kr.drop_duplicates(subset='reviewText',keep='first', inplace=True)\n",
        "\n",
        "infodf = pd.concat([pd.DataFrame(kr.dtypes),pd.DataFrame(kr.isnull().sum()),pd.DataFrame(round((kr.isnull().sum() / len(kr)) * 100 , 2)), pd.DataFrame(kr.nunique()), pd.DataFrame(round(kr.nunique()/ len(kr) *100,2))], axis=1, join='inner')\n",
        "\n",
        "infodf.columns = ['Type','Null values', '% of NaNs', 'Unique values', '% of unique values']\n",
        "infodf = infodf.sort_values(by=['Type','Null values', 'Unique values'])\n",
        "\n",
        "infodf.head(15)"
      ],
      "execution_count": 0,
      "outputs": [
        {
          "output_type": "execute_result",
          "data": {
            "text/html": [
              "<div>\n",
              "<style scoped>\n",
              "    .dataframe tbody tr th:only-of-type {\n",
              "        vertical-align: middle;\n",
              "    }\n",
              "\n",
              "    .dataframe tbody tr th {\n",
              "        vertical-align: top;\n",
              "    }\n",
              "\n",
              "    .dataframe thead th {\n",
              "        text-align: right;\n",
              "    }\n",
              "</style>\n",
              "<table border=\"1\" class=\"dataframe\">\n",
              "  <thead>\n",
              "    <tr style=\"text-align: right;\">\n",
              "      <th></th>\n",
              "      <th>Type</th>\n",
              "      <th>Null values</th>\n",
              "      <th>% of NaNs</th>\n",
              "      <th>Unique values</th>\n",
              "      <th>% of unique values</th>\n",
              "    </tr>\n",
              "  </thead>\n",
              "  <tbody>\n",
              "    <tr>\n",
              "      <th>verified</th>\n",
              "      <td>bool</td>\n",
              "      <td>0</td>\n",
              "      <td>0.00</td>\n",
              "      <td>2</td>\n",
              "      <td>0.00</td>\n",
              "    </tr>\n",
              "    <tr>\n",
              "      <th>unixReviewTime</th>\n",
              "      <td>int64</td>\n",
              "      <td>0</td>\n",
              "      <td>0.00</td>\n",
              "      <td>4819</td>\n",
              "      <td>0.23</td>\n",
              "    </tr>\n",
              "    <tr>\n",
              "      <th>overall</th>\n",
              "      <td>float64</td>\n",
              "      <td>0</td>\n",
              "      <td>0.00</td>\n",
              "      <td>5</td>\n",
              "      <td>0.00</td>\n",
              "    </tr>\n",
              "    <tr>\n",
              "      <th>style</th>\n",
              "      <td>object</td>\n",
              "      <td>0</td>\n",
              "      <td>0.00</td>\n",
              "      <td>26</td>\n",
              "      <td>0.00</td>\n",
              "    </tr>\n",
              "    <tr>\n",
              "      <th>image</th>\n",
              "      <td>object</td>\n",
              "      <td>0</td>\n",
              "      <td>0.00</td>\n",
              "      <td>1209</td>\n",
              "      <td>0.06</td>\n",
              "    </tr>\n",
              "    <tr>\n",
              "      <th>reviewTime</th>\n",
              "      <td>object</td>\n",
              "      <td>0</td>\n",
              "      <td>0.00</td>\n",
              "      <td>4819</td>\n",
              "      <td>0.23</td>\n",
              "    </tr>\n",
              "    <tr>\n",
              "      <th>asin</th>\n",
              "      <td>object</td>\n",
              "      <td>0</td>\n",
              "      <td>0.00</td>\n",
              "      <td>98819</td>\n",
              "      <td>4.67</td>\n",
              "    </tr>\n",
              "    <tr>\n",
              "      <th>reviewerID</th>\n",
              "      <td>object</td>\n",
              "      <td>0</td>\n",
              "      <td>0.00</td>\n",
              "      <td>138996</td>\n",
              "      <td>6.57</td>\n",
              "    </tr>\n",
              "    <tr>\n",
              "      <th>reviewText</th>\n",
              "      <td>object</td>\n",
              "      <td>1</td>\n",
              "      <td>0.00</td>\n",
              "      <td>2114480</td>\n",
              "      <td>100.00</td>\n",
              "    </tr>\n",
              "    <tr>\n",
              "      <th>reviewerName</th>\n",
              "      <td>object</td>\n",
              "      <td>126</td>\n",
              "      <td>0.01</td>\n",
              "      <td>102003</td>\n",
              "      <td>4.82</td>\n",
              "    </tr>\n",
              "    <tr>\n",
              "      <th>summary</th>\n",
              "      <td>object</td>\n",
              "      <td>1693</td>\n",
              "      <td>0.08</td>\n",
              "      <td>1254949</td>\n",
              "      <td>59.35</td>\n",
              "    </tr>\n",
              "    <tr>\n",
              "      <th>vote</th>\n",
              "      <td>object</td>\n",
              "      <td>1825202</td>\n",
              "      <td>86.32</td>\n",
              "      <td>271</td>\n",
              "      <td>0.01</td>\n",
              "    </tr>\n",
              "  </tbody>\n",
              "</table>\n",
              "</div>"
            ],
            "text/plain": [
              "                   Type  Null values  ...  Unique values  % of unique values\n",
              "verified           bool            0  ...              2                0.00\n",
              "unixReviewTime    int64            0  ...           4819                0.23\n",
              "overall         float64            0  ...              5                0.00\n",
              "style            object            0  ...             26                0.00\n",
              "image            object            0  ...           1209                0.06\n",
              "reviewTime       object            0  ...           4819                0.23\n",
              "asin             object            0  ...          98819                4.67\n",
              "reviewerID       object            0  ...         138996                6.57\n",
              "reviewText       object            1  ...        2114480              100.00\n",
              "reviewerName     object          126  ...         102003                4.82\n",
              "summary          object         1693  ...        1254949               59.35\n",
              "vote             object      1825202  ...            271                0.01\n",
              "\n",
              "[12 rows x 5 columns]"
            ]
          },
          "metadata": {
            "tags": []
          },
          "execution_count": 9
        }
      ]
    },
    {
      "cell_type": "code",
      "metadata": {
        "id": "lp_2-Dx2OifT",
        "colab_type": "code",
        "outputId": "973b0e19-0fe6-4a72-eb7d-e7c8d32d5912",
        "colab": {
          "base_uri": "https://localhost:8080/",
          "height": 34
        }
      },
      "source": [
        "unique_reviewsText = infodf.loc['reviewText','Unique values']\n",
        "\n",
        "duplicate_reviewText = len(kr) - unique_reviewsText -1\n",
        "\n",
        "print(f'Now we have {duplicate_reviewText} duplicated reviews.')\n"
      ],
      "execution_count": 0,
      "outputs": [
        {
          "output_type": "stream",
          "text": [
            "Now we have 0 duplicated reviews.\n"
          ],
          "name": "stdout"
        }
      ]
    },
    {
      "cell_type": "code",
      "metadata": {
        "id": "I9obz0o8Rlcq",
        "colab_type": "code",
        "outputId": "6ef4c128-2c8e-4214-95d8-8d5e3d9c64e5",
        "colab": {
          "base_uri": "https://localhost:8080/",
          "height": 449
        }
      },
      "source": [
        "kr.head()"
      ],
      "execution_count": 0,
      "outputs": [
        {
          "output_type": "execute_result",
          "data": {
            "text/html": [
              "<div>\n",
              "<style scoped>\n",
              "    .dataframe tbody tr th:only-of-type {\n",
              "        vertical-align: middle;\n",
              "    }\n",
              "\n",
              "    .dataframe tbody tr th {\n",
              "        vertical-align: top;\n",
              "    }\n",
              "\n",
              "    .dataframe thead th {\n",
              "        text-align: right;\n",
              "    }\n",
              "</style>\n",
              "<table border=\"1\" class=\"dataframe\">\n",
              "  <thead>\n",
              "    <tr style=\"text-align: right;\">\n",
              "      <th></th>\n",
              "      <th>overall</th>\n",
              "      <th>verified</th>\n",
              "      <th>reviewTime</th>\n",
              "      <th>reviewerID</th>\n",
              "      <th>asin</th>\n",
              "      <th>style</th>\n",
              "      <th>reviewerName</th>\n",
              "      <th>reviewText</th>\n",
              "      <th>summary</th>\n",
              "      <th>unixReviewTime</th>\n",
              "      <th>vote</th>\n",
              "      <th>image</th>\n",
              "    </tr>\n",
              "  </thead>\n",
              "  <tbody>\n",
              "    <tr>\n",
              "      <th>0</th>\n",
              "      <td>4.0</td>\n",
              "      <td>True</td>\n",
              "      <td>07 3, 2014</td>\n",
              "      <td>A2LSKD2H9U8N0J</td>\n",
              "      <td>B000FA5KK0</td>\n",
              "      <td>{'Format:': ' Kindle Edition'}</td>\n",
              "      <td>sandra sue marsolek</td>\n",
              "      <td>pretty good story, a little exaggerated, but I...</td>\n",
              "      <td>pretty good story</td>\n",
              "      <td>1404345600</td>\n",
              "      <td>NaN</td>\n",
              "      <td>nan</td>\n",
              "    </tr>\n",
              "    <tr>\n",
              "      <th>1</th>\n",
              "      <td>5.0</td>\n",
              "      <td>True</td>\n",
              "      <td>05 26, 2014</td>\n",
              "      <td>A2QP13XTJND1QS</td>\n",
              "      <td>B000FA5KK0</td>\n",
              "      <td>{'Format:': ' Kindle Edition'}</td>\n",
              "      <td>Tpl</td>\n",
              "      <td>If you've read other max brand westerns, you k...</td>\n",
              "      <td>A very good book</td>\n",
              "      <td>1401062400</td>\n",
              "      <td>NaN</td>\n",
              "      <td>nan</td>\n",
              "    </tr>\n",
              "    <tr>\n",
              "      <th>2</th>\n",
              "      <td>5.0</td>\n",
              "      <td>True</td>\n",
              "      <td>09 16, 2016</td>\n",
              "      <td>A8WQ7MAG3HFOZ</td>\n",
              "      <td>B000FA5KK0</td>\n",
              "      <td>{'Format:': ' Kindle Edition'}</td>\n",
              "      <td>Alverne F. Anderson</td>\n",
              "      <td>Love Max, always a fun twist</td>\n",
              "      <td>Five Stars</td>\n",
              "      <td>1473984000</td>\n",
              "      <td>NaN</td>\n",
              "      <td>nan</td>\n",
              "    </tr>\n",
              "    <tr>\n",
              "      <th>3</th>\n",
              "      <td>5.0</td>\n",
              "      <td>True</td>\n",
              "      <td>03 3, 2016</td>\n",
              "      <td>A1E0MODSRYP7O</td>\n",
              "      <td>B000FA5KK0</td>\n",
              "      <td>{'Format:': ' Kindle Edition'}</td>\n",
              "      <td>Jeff</td>\n",
              "      <td>As usual for him, a good book</td>\n",
              "      <td>a good</td>\n",
              "      <td>1456963200</td>\n",
              "      <td>NaN</td>\n",
              "      <td>nan</td>\n",
              "    </tr>\n",
              "    <tr>\n",
              "      <th>4</th>\n",
              "      <td>5.0</td>\n",
              "      <td>True</td>\n",
              "      <td>09 10, 2015</td>\n",
              "      <td>AYUTCGVSM1H7T</td>\n",
              "      <td>B000FA5KK0</td>\n",
              "      <td>{'Format:': ' Kindle Edition'}</td>\n",
              "      <td>DEHS - EddyRapcon</td>\n",
              "      <td>MB is one of the original western writers and ...</td>\n",
              "      <td>A Western</td>\n",
              "      <td>1441843200</td>\n",
              "      <td>2</td>\n",
              "      <td>nan</td>\n",
              "    </tr>\n",
              "  </tbody>\n",
              "</table>\n",
              "</div>"
            ],
            "text/plain": [
              "   overall  verified   reviewTime  ... unixReviewTime vote image\n",
              "0      4.0      True   07 3, 2014  ...     1404345600  NaN   nan\n",
              "1      5.0      True  05 26, 2014  ...     1401062400  NaN   nan\n",
              "2      5.0      True  09 16, 2016  ...     1473984000  NaN   nan\n",
              "3      5.0      True   03 3, 2016  ...     1456963200  NaN   nan\n",
              "4      5.0      True  09 10, 2015  ...     1441843200    2   nan\n",
              "\n",
              "[5 rows x 12 columns]"
            ]
          },
          "metadata": {
            "tags": []
          },
          "execution_count": 11
        }
      ]
    },
    {
      "cell_type": "code",
      "metadata": {
        "id": "pPdOK53owD5Z",
        "colab_type": "code",
        "outputId": "810229e4-b73d-4ee3-a953-9dd52c7cf7f0",
        "colab": {
          "base_uri": "https://localhost:8080/",
          "height": 225
        }
      },
      "source": [
        "### What values are in the style column other than containing {'Format:': '\n",
        "\n",
        "print(kr[~kr['style'].str.contains('Format')]['style'].value_counts(normalize=True))\n",
        "print('\\n We got some null values in the style column.')\n",
        "print('\\n')\n",
        "\n",
        "### What values are in the image column other than containing an url\n",
        "\n",
        "print(kr[~kr['image'].str.contains('image')]['image'].value_counts(normalize=True))\n",
        "print('\\n We got some null values in the image column.')\n",
        "print('\\n')"
      ],
      "execution_count": 0,
      "outputs": [
        {
          "output_type": "stream",
          "text": [
            "nan    1.0\n",
            "Name: style, dtype: float64\n",
            "\n",
            " We got some null values in the style column.\n",
            "\n",
            "\n",
            "nan    1.0\n",
            "Name: image, dtype: float64\n",
            "\n",
            " We got some null values in the image column.\n",
            "\n",
            "\n"
          ],
          "name": "stdout"
        }
      ]
    },
    {
      "cell_type": "code",
      "metadata": {
        "id": "1EjVa2Srw7CI",
        "colab_type": "code",
        "outputId": "7a84392d-d9cf-4049-a751-c21a7565859d",
        "colab": {
          "base_uri": "https://localhost:8080/",
          "height": 469
        }
      },
      "source": [
        "### Modify the style values dropping out the 'Format' part.\n",
        "\n",
        "kr['style'] = kr['style'].replace({\"{'Format:': ' Kindle Edition'}\": 'Kindle Edition',\n",
        "                                   \"{'Format:': ' Hardcover'}\" : 'Hardcover', \n",
        "                                   \"{'Format:': ' Mass Market Paperback'}\":' Mass Market Paperback' ,\n",
        "                                   \"{'Format:': ' Paperback'}\":' Paperback' ,\n",
        "                                   '{\\'Format:\\': \\' 3.5\" disk\\'}':' 3.5\" disk ', \n",
        "                                   \"{'Format:': ' Audible Audiobook'}\":' Audible Audiobook',\n",
        "                                   \"{'Format:': ' Audio CD'}\":' Audio CD',\n",
        "                                   \"{'Format:': ' Audio Cassette'}\":' Audio Cassette',\n",
        "                                   \"{'Format:': ' Library Binding'}\":' Library Binding',\n",
        "                                   \"{'Format:': ' Kindle Edition with Audio/Video'}\":' Kindle Edition with Audio/Video',\n",
        "                                   \"{'Format:': ' MP3 CD'}\":' MP3 CD',\n",
        "                                   \"{'Format:': ' Leather Bound'}\":' Leather Bound',\n",
        "                                   \"{'Format:': ' Print Magazine'}\":' Print Magazine',\n",
        "                                   \"{'Format:': ' Perfect Paperback'}\":' Perfect Paperback', \n",
        "                                   \"{'Format:': ' School & Library Binding'}\":' School & Library Binding',\n",
        "                                   \"{'Format:': ' Digital'}\":' Digital',\n",
        "                                   \"{'Format:': ' Board book'}\":' Board book',\n",
        "                                   \"{'Format:': ' Flexibound'}\":' Flexibound',\n",
        "                                   \"{'Format:': ' Imitation Leather'}\":' Imitation Leather',\n",
        "                                   \"{'Format:': ' Unknown Binding'}\":' Unknown Binding', \n",
        "                                   \"{'Format:': ' Prime Video'}\":' Prime Video',\n",
        "                                   \"{'Format:': ' DVD'}\":' DVD',\n",
        "                                   \"{'Format:': ' Preloaded Digital Audio Player'}\":' Preloaded Digital Audio Player',\n",
        "                                   \"{'Format:': ' VHS Tape'}\":' VHS Tape',\n",
        "                                   \"{'Format:': ' CD-ROM'}\":' CD-ROM',\n",
        "                                   \"{'Format:': ' Comic'}\":' Comic'  })\n",
        "\n",
        "kr['style'].unique().tolist()\n"
      ],
      "execution_count": 0,
      "outputs": [
        {
          "output_type": "execute_result",
          "data": {
            "text/plain": [
              "['Kindle Edition',\n",
              " 'Hardcover',\n",
              " ' Mass Market Paperback',\n",
              " 'nan',\n",
              " ' Paperback',\n",
              " ' 3.5\" disk ',\n",
              " ' Audible Audiobook',\n",
              " ' Audio CD',\n",
              " ' Audio Cassette',\n",
              " ' Library Binding',\n",
              " ' Kindle Edition with Audio/Video',\n",
              " ' MP3 CD',\n",
              " ' Leather Bound',\n",
              " ' Print Magazine',\n",
              " ' Perfect Paperback',\n",
              " ' School & Library Binding',\n",
              " ' Digital',\n",
              " ' Board book',\n",
              " ' Flexibound',\n",
              " ' Imitation Leather',\n",
              " ' Prime Video',\n",
              " ' DVD',\n",
              " ' Preloaded Digital Audio Player',\n",
              " ' VHS Tape',\n",
              " ' CD-ROM',\n",
              " ' Comic']"
            ]
          },
          "metadata": {
            "tags": []
          },
          "execution_count": 13
        }
      ]
    },
    {
      "cell_type": "code",
      "metadata": {
        "id": "2FOLl7RnyF7w",
        "colab_type": "code",
        "outputId": "6df97297-b88f-41f1-c962-cfc4c2585e1e",
        "colab": {
          "base_uri": "https://localhost:8080/",
          "height": 52
        }
      },
      "source": [
        "### Notice: in the image column the null values are marked as 'nan'\n",
        "\n",
        "print(f\"Number of null values marked as 'nan' :{len(kr[(kr['image']== 'nan')])}\")\n",
        "print(f\"Number of proper NaN's: {(kr['image'].isnull().sum())}\")\n",
        "\n",
        "### For the propourses of this analysis, I'm turning the values to True if there is an url and Fales if there's not.\n",
        "\n",
        "kr['image'] = kr['image'].replace({'nan':False})\n"
      ],
      "execution_count": 0,
      "outputs": [
        {
          "output_type": "stream",
          "text": [
            "Number of null values marked as 'nan' :2113175\n",
            "Number of proper NaN's: 0\n"
          ],
          "name": "stdout"
        }
      ]
    },
    {
      "cell_type": "code",
      "metadata": {
        "id": "YR1qZGmz811H",
        "colab_type": "code",
        "outputId": "8681c0b3-8d6d-48ee-8496-287d2fb15a27",
        "colab": {
          "base_uri": "https://localhost:8080/",
          "height": 449
        }
      },
      "source": [
        "### Turning the image column into a Boolean column: True if the review does have an url for the image, False otherwise.\n",
        "\n",
        "kr['image'] = kr['image'].replace(to_replace=kr[~(kr['image'] == False)]['image'].tolist(),value=True)\n",
        "print(kr['image'].describe())\n",
        "\n",
        "kr.head()"
      ],
      "execution_count": 0,
      "outputs": [
        {
          "output_type": "stream",
          "text": [
            "count     2114481\n",
            "unique          2\n",
            "top         False\n",
            "freq      2113175\n",
            "Name: image, dtype: object\n"
          ],
          "name": "stdout"
        },
        {
          "output_type": "execute_result",
          "data": {
            "text/html": [
              "<div>\n",
              "<style scoped>\n",
              "    .dataframe tbody tr th:only-of-type {\n",
              "        vertical-align: middle;\n",
              "    }\n",
              "\n",
              "    .dataframe tbody tr th {\n",
              "        vertical-align: top;\n",
              "    }\n",
              "\n",
              "    .dataframe thead th {\n",
              "        text-align: right;\n",
              "    }\n",
              "</style>\n",
              "<table border=\"1\" class=\"dataframe\">\n",
              "  <thead>\n",
              "    <tr style=\"text-align: right;\">\n",
              "      <th></th>\n",
              "      <th>overall</th>\n",
              "      <th>verified</th>\n",
              "      <th>reviewTime</th>\n",
              "      <th>reviewerID</th>\n",
              "      <th>asin</th>\n",
              "      <th>style</th>\n",
              "      <th>reviewerName</th>\n",
              "      <th>reviewText</th>\n",
              "      <th>summary</th>\n",
              "      <th>unixReviewTime</th>\n",
              "      <th>vote</th>\n",
              "      <th>image</th>\n",
              "    </tr>\n",
              "  </thead>\n",
              "  <tbody>\n",
              "    <tr>\n",
              "      <th>0</th>\n",
              "      <td>4.0</td>\n",
              "      <td>True</td>\n",
              "      <td>07 3, 2014</td>\n",
              "      <td>A2LSKD2H9U8N0J</td>\n",
              "      <td>B000FA5KK0</td>\n",
              "      <td>Kindle Edition</td>\n",
              "      <td>sandra sue marsolek</td>\n",
              "      <td>pretty good story, a little exaggerated, but I...</td>\n",
              "      <td>pretty good story</td>\n",
              "      <td>1404345600</td>\n",
              "      <td>NaN</td>\n",
              "      <td>False</td>\n",
              "    </tr>\n",
              "    <tr>\n",
              "      <th>1</th>\n",
              "      <td>5.0</td>\n",
              "      <td>True</td>\n",
              "      <td>05 26, 2014</td>\n",
              "      <td>A2QP13XTJND1QS</td>\n",
              "      <td>B000FA5KK0</td>\n",
              "      <td>Kindle Edition</td>\n",
              "      <td>Tpl</td>\n",
              "      <td>If you've read other max brand westerns, you k...</td>\n",
              "      <td>A very good book</td>\n",
              "      <td>1401062400</td>\n",
              "      <td>NaN</td>\n",
              "      <td>False</td>\n",
              "    </tr>\n",
              "    <tr>\n",
              "      <th>2</th>\n",
              "      <td>5.0</td>\n",
              "      <td>True</td>\n",
              "      <td>09 16, 2016</td>\n",
              "      <td>A8WQ7MAG3HFOZ</td>\n",
              "      <td>B000FA5KK0</td>\n",
              "      <td>Kindle Edition</td>\n",
              "      <td>Alverne F. Anderson</td>\n",
              "      <td>Love Max, always a fun twist</td>\n",
              "      <td>Five Stars</td>\n",
              "      <td>1473984000</td>\n",
              "      <td>NaN</td>\n",
              "      <td>False</td>\n",
              "    </tr>\n",
              "    <tr>\n",
              "      <th>3</th>\n",
              "      <td>5.0</td>\n",
              "      <td>True</td>\n",
              "      <td>03 3, 2016</td>\n",
              "      <td>A1E0MODSRYP7O</td>\n",
              "      <td>B000FA5KK0</td>\n",
              "      <td>Kindle Edition</td>\n",
              "      <td>Jeff</td>\n",
              "      <td>As usual for him, a good book</td>\n",
              "      <td>a good</td>\n",
              "      <td>1456963200</td>\n",
              "      <td>NaN</td>\n",
              "      <td>False</td>\n",
              "    </tr>\n",
              "    <tr>\n",
              "      <th>4</th>\n",
              "      <td>5.0</td>\n",
              "      <td>True</td>\n",
              "      <td>09 10, 2015</td>\n",
              "      <td>AYUTCGVSM1H7T</td>\n",
              "      <td>B000FA5KK0</td>\n",
              "      <td>Kindle Edition</td>\n",
              "      <td>DEHS - EddyRapcon</td>\n",
              "      <td>MB is one of the original western writers and ...</td>\n",
              "      <td>A Western</td>\n",
              "      <td>1441843200</td>\n",
              "      <td>2</td>\n",
              "      <td>False</td>\n",
              "    </tr>\n",
              "  </tbody>\n",
              "</table>\n",
              "</div>"
            ],
            "text/plain": [
              "   overall  verified   reviewTime  ... unixReviewTime vote  image\n",
              "0      4.0      True   07 3, 2014  ...     1404345600  NaN  False\n",
              "1      5.0      True  05 26, 2014  ...     1401062400  NaN  False\n",
              "2      5.0      True  09 16, 2016  ...     1473984000  NaN  False\n",
              "3      5.0      True   03 3, 2016  ...     1456963200  NaN  False\n",
              "4      5.0      True  09 10, 2015  ...     1441843200    2  False\n",
              "\n",
              "[5 rows x 12 columns]"
            ]
          },
          "metadata": {
            "tags": []
          },
          "execution_count": 15
        }
      ]
    },
    {
      "cell_type": "code",
      "metadata": {
        "id": "ueOl_oqLYooA",
        "colab_type": "code",
        "outputId": "6336328a-f9e4-4b48-8870-a54ad8b89a87",
        "colab": {
          "base_uri": "https://localhost:8080/",
          "height": 504
        }
      },
      "source": [
        "### I'm suspicious reviewTime is the same as unixreviewtime, I'll verify this.\n",
        "\n",
        "print(f\"The number of rows with differences is {(pd.to_datetime(kr['reviewTime'],format='%m %d, %Y') != pd.to_datetime(kr['unixReviewTime'], unit='s')).sum()}, I'll consider then if drop one of these columns.\")\n",
        "print(\"For now, I'll split the reviewTime into day, month, year and day of the week.\") #, as mark the season.\")\n",
        "\n",
        "kr['reviewTime'] = pd.to_datetime(kr['reviewTime'], format='%m %d, %Y')\n",
        "kr['reviewyear'] = kr['reviewTime'].dt.year\n",
        "kr['reviewmonth'] = kr['reviewTime'].dt.month\n",
        "kr['reviewday'] = kr['reviewTime'].dt.day\n",
        "\n",
        "kr['season'] = [''] * len(kr)\n",
        "\n",
        "kr.loc[(kr['reviewmonth'] == 12) | (kr['reviewmonth'] == 1) | (kr['reviewmonth'] == 2),'season'] = 'winter'\n",
        "kr.loc[(kr['reviewmonth'] == 3) | (kr['reviewmonth'] == 4) | (kr['reviewmonth'] == 5),'season'] = 'spring'\n",
        "kr.loc[(kr['reviewmonth'] == 6) | (kr['reviewmonth'] == 7) | (kr['reviewmonth'] == 8),'season'] = 'summer'\n",
        "kr.loc[(kr['reviewmonth'] == 9) | (kr['reviewmonth'] == 10) | (kr['reviewmonth'] == 11),'season'] = 'autumn'\n",
        "\n",
        "\n",
        "\n",
        "kr.head()\n"
      ],
      "execution_count": 0,
      "outputs": [
        {
          "output_type": "stream",
          "text": [
            "The number of rows with differences is 0, I'll consider then if drop one of these columns.\n",
            "For now, I'll split the reviewTime into day, month, year and day of the week.\n"
          ],
          "name": "stdout"
        },
        {
          "output_type": "execute_result",
          "data": {
            "text/html": [
              "<div>\n",
              "<style scoped>\n",
              "    .dataframe tbody tr th:only-of-type {\n",
              "        vertical-align: middle;\n",
              "    }\n",
              "\n",
              "    .dataframe tbody tr th {\n",
              "        vertical-align: top;\n",
              "    }\n",
              "\n",
              "    .dataframe thead th {\n",
              "        text-align: right;\n",
              "    }\n",
              "</style>\n",
              "<table border=\"1\" class=\"dataframe\">\n",
              "  <thead>\n",
              "    <tr style=\"text-align: right;\">\n",
              "      <th></th>\n",
              "      <th>overall</th>\n",
              "      <th>verified</th>\n",
              "      <th>reviewTime</th>\n",
              "      <th>reviewerID</th>\n",
              "      <th>asin</th>\n",
              "      <th>style</th>\n",
              "      <th>reviewerName</th>\n",
              "      <th>reviewText</th>\n",
              "      <th>summary</th>\n",
              "      <th>unixReviewTime</th>\n",
              "      <th>vote</th>\n",
              "      <th>image</th>\n",
              "      <th>reviewyear</th>\n",
              "      <th>reviewmonth</th>\n",
              "      <th>reviewday</th>\n",
              "      <th>season</th>\n",
              "    </tr>\n",
              "  </thead>\n",
              "  <tbody>\n",
              "    <tr>\n",
              "      <th>0</th>\n",
              "      <td>4.0</td>\n",
              "      <td>True</td>\n",
              "      <td>2014-07-03</td>\n",
              "      <td>A2LSKD2H9U8N0J</td>\n",
              "      <td>B000FA5KK0</td>\n",
              "      <td>Kindle Edition</td>\n",
              "      <td>sandra sue marsolek</td>\n",
              "      <td>pretty good story, a little exaggerated, but I...</td>\n",
              "      <td>pretty good story</td>\n",
              "      <td>1404345600</td>\n",
              "      <td>NaN</td>\n",
              "      <td>False</td>\n",
              "      <td>2014</td>\n",
              "      <td>7</td>\n",
              "      <td>3</td>\n",
              "      <td>summer</td>\n",
              "    </tr>\n",
              "    <tr>\n",
              "      <th>1</th>\n",
              "      <td>5.0</td>\n",
              "      <td>True</td>\n",
              "      <td>2014-05-26</td>\n",
              "      <td>A2QP13XTJND1QS</td>\n",
              "      <td>B000FA5KK0</td>\n",
              "      <td>Kindle Edition</td>\n",
              "      <td>Tpl</td>\n",
              "      <td>If you've read other max brand westerns, you k...</td>\n",
              "      <td>A very good book</td>\n",
              "      <td>1401062400</td>\n",
              "      <td>NaN</td>\n",
              "      <td>False</td>\n",
              "      <td>2014</td>\n",
              "      <td>5</td>\n",
              "      <td>26</td>\n",
              "      <td>spring</td>\n",
              "    </tr>\n",
              "    <tr>\n",
              "      <th>2</th>\n",
              "      <td>5.0</td>\n",
              "      <td>True</td>\n",
              "      <td>2016-09-16</td>\n",
              "      <td>A8WQ7MAG3HFOZ</td>\n",
              "      <td>B000FA5KK0</td>\n",
              "      <td>Kindle Edition</td>\n",
              "      <td>Alverne F. Anderson</td>\n",
              "      <td>Love Max, always a fun twist</td>\n",
              "      <td>Five Stars</td>\n",
              "      <td>1473984000</td>\n",
              "      <td>NaN</td>\n",
              "      <td>False</td>\n",
              "      <td>2016</td>\n",
              "      <td>9</td>\n",
              "      <td>16</td>\n",
              "      <td>autumn</td>\n",
              "    </tr>\n",
              "    <tr>\n",
              "      <th>3</th>\n",
              "      <td>5.0</td>\n",
              "      <td>True</td>\n",
              "      <td>2016-03-03</td>\n",
              "      <td>A1E0MODSRYP7O</td>\n",
              "      <td>B000FA5KK0</td>\n",
              "      <td>Kindle Edition</td>\n",
              "      <td>Jeff</td>\n",
              "      <td>As usual for him, a good book</td>\n",
              "      <td>a good</td>\n",
              "      <td>1456963200</td>\n",
              "      <td>NaN</td>\n",
              "      <td>False</td>\n",
              "      <td>2016</td>\n",
              "      <td>3</td>\n",
              "      <td>3</td>\n",
              "      <td>spring</td>\n",
              "    </tr>\n",
              "    <tr>\n",
              "      <th>4</th>\n",
              "      <td>5.0</td>\n",
              "      <td>True</td>\n",
              "      <td>2015-09-10</td>\n",
              "      <td>AYUTCGVSM1H7T</td>\n",
              "      <td>B000FA5KK0</td>\n",
              "      <td>Kindle Edition</td>\n",
              "      <td>DEHS - EddyRapcon</td>\n",
              "      <td>MB is one of the original western writers and ...</td>\n",
              "      <td>A Western</td>\n",
              "      <td>1441843200</td>\n",
              "      <td>2</td>\n",
              "      <td>False</td>\n",
              "      <td>2015</td>\n",
              "      <td>9</td>\n",
              "      <td>10</td>\n",
              "      <td>autumn</td>\n",
              "    </tr>\n",
              "  </tbody>\n",
              "</table>\n",
              "</div>"
            ],
            "text/plain": [
              "   overall  verified reviewTime  ... reviewmonth reviewday  season\n",
              "0      4.0      True 2014-07-03  ...           7         3  summer\n",
              "1      5.0      True 2014-05-26  ...           5        26  spring\n",
              "2      5.0      True 2016-09-16  ...           9        16  autumn\n",
              "3      5.0      True 2016-03-03  ...           3         3  spring\n",
              "4      5.0      True 2015-09-10  ...           9        10  autumn\n",
              "\n",
              "[5 rows x 16 columns]"
            ]
          },
          "metadata": {
            "tags": []
          },
          "execution_count": 16
        }
      ]
    },
    {
      "cell_type": "code",
      "metadata": {
        "id": "6cuOTwYxVkcp",
        "colab_type": "code",
        "colab": {}
      },
      "source": [
        "# ## Is it real that the reviewerID are unique associated to the reviewerName?\n",
        "\n",
        "# ###############################################################################\n",
        "# ###############################################################################\n",
        "# ###############################################################################\n",
        "\n",
        "# # Do not run unless feeling with time to spare. I have run it once and verify that:\n",
        "\n",
        "# #         -----> The reviewerID is _____ towards the reviewerName. <-----\n",
        "\n",
        "# ###############################################################################\n",
        "# ###############################################################################\n",
        "# ###############################################################################\n",
        "\n",
        "# for i in kr['reviewerID']:\n",
        "#   if kr.loc[kr['reviewerID'] == i,'reviewerName'].nunique() >1:\n",
        "#     print(i)\n",
        "\n"
      ],
      "execution_count": 0,
      "outputs": []
    },
    {
      "cell_type": "code",
      "metadata": {
        "id": "cjJXFOf-Z3h1",
        "colab_type": "code",
        "colab": {}
      },
      "source": [
        ""
      ],
      "execution_count": 0,
      "outputs": []
    },
    {
      "cell_type": "markdown",
      "metadata": {
        "id": "vkVaGBDoDhV0",
        "colab_type": "text"
      },
      "source": [
        "###Store the hole dataframe into  a pickle"
      ]
    },
    {
      "cell_type": "code",
      "metadata": {
        "id": "JIyjQMScDlsG",
        "colab_type": "code",
        "colab": {}
      },
      "source": [
        "# kr.to_pickle('kr.pkl')\n",
        "# files.download('kr.pkl')\n",
        "\n",
        "# reviews_all = kr[['overall','reviewText','summary']]\n"
      ],
      "execution_count": 0,
      "outputs": []
    },
    {
      "cell_type": "markdown",
      "metadata": {
        "id": "78FgjTep8vKM",
        "colab_type": "text"
      },
      "source": [
        "### How the the grade of the product are distributed?\n"
      ]
    },
    {
      "cell_type": "code",
      "metadata": {
        "id": "0QWS_CNh9Bo8",
        "colab_type": "code",
        "colab": {}
      },
      "source": [
        "print(kr['overall'].value_counts(normalize=True))\n",
        "print('The grades are skewed to five.')\n",
        "sns.distplot(kr.overall);\n"
      ],
      "execution_count": 0,
      "outputs": []
    },
    {
      "cell_type": "markdown",
      "metadata": {
        "id": "xTBCVFh8R8qq",
        "colab_type": "text"
      },
      "source": [
        "### Next I want to see what are the most common words used in the reviews texts.\n",
        "\n",
        "\n",
        "## I'll need to divide the reviews by rate (overall) to look in detail."
      ]
    },
    {
      "cell_type": "code",
      "metadata": {
        "id": "Wpbknb8c8E3k",
        "colab_type": "code",
        "outputId": "8f353090-eed1-490e-c30e-7355914ac9b0",
        "colab": {
          "base_uri": "https://localhost:8080/",
          "height": 208
        }
      },
      "source": [
        "reviews_5 = kr[kr['overall']==5.0]\n",
        "reviews_4 = kr[kr['overall']==4.0]\n",
        "reviews_3 = kr[kr['overall']==3.0]\n",
        "reviews_2 = kr[kr['overall']==2.0]\n",
        "reviews_1 = kr[kr['overall']==1.0]\n",
        "\n",
        "print('The original lenghts of the sub datasets.')\n",
        "print(f'There are {len(reviews_5)} reviews with score 5. \\n')\n",
        "print(f'There are {len(reviews_4)} reviews with score 4. \\n')\n",
        "print(f'There are {len(reviews_3)} reviews with score 3. \\n')\n",
        "print(f'There are {len(reviews_2)} reviews with score 2. \\n')\n",
        "print(f'There are {len(reviews_1)} reviews with score 1. \\n')\n",
        "\n"
      ],
      "execution_count": 0,
      "outputs": [
        {
          "output_type": "stream",
          "text": [
            "The original lenghts of the sub datasets.\n",
            "There are 1279978 reviews with score 5. \n",
            "\n",
            "There are 534861 reviews with score 4. \n",
            "\n",
            "There are 188827 reviews with score 3. \n",
            "\n",
            "There are 65004 reviews with score 2. \n",
            "\n",
            "There are 45811 reviews with score 1. \n",
            "\n"
          ],
          "name": "stdout"
        }
      ]
    },
    {
      "cell_type": "markdown",
      "metadata": {
        "id": "tmZP3CThUGoU",
        "colab_type": "text"
      },
      "source": [
        "# Sampling. Due the size of my dataset, I'm going to take a sample of 10%."
      ]
    },
    {
      "cell_type": "code",
      "metadata": {
        "id": "aqKCcYcIUPxx",
        "colab_type": "code",
        "outputId": "c1931c9b-b387-4882-ede5-f91e768ee95a",
        "colab": {
          "base_uri": "https://localhost:8080/",
          "height": 208
        }
      },
      "source": [
        "reviews_1 = reviews_1.sample(int(round(len(reviews_1)/10,2)))\n",
        "reviews_2 = reviews_2.sample(int(round(len(reviews_2)/10,2)))\n",
        "reviews_3 = reviews_3.sample(int(round(len(reviews_3)/10,2)))\n",
        "reviews_4 = reviews_4.sample(int(round(len(reviews_4)/10,2)))\n",
        "reviews_5 = reviews_5.sample(int(round(len(reviews_5)/10,2)))\n",
        "\n",
        "print('The sample lenghts of the sub datasets.')\n",
        "print(f'There are {len(reviews_5)} reviews with score 5. \\n')\n",
        "print(f'There are {len(reviews_4)} reviews with score 4. \\n')\n",
        "print(f'There are {len(reviews_3)} reviews with score 3. \\n')\n",
        "print(f'There are {len(reviews_2)} reviews with score 2. \\n')\n",
        "print(f'There are {len(reviews_1)} reviews with score 1. \\n')"
      ],
      "execution_count": 0,
      "outputs": [
        {
          "output_type": "stream",
          "text": [
            "The sample lenghts of the sub datasets.\n",
            "There are 127997 reviews with score 5. \n",
            "\n",
            "There are 53486 reviews with score 4. \n",
            "\n",
            "There are 18882 reviews with score 3. \n",
            "\n",
            "There are 6500 reviews with score 2. \n",
            "\n",
            "There are 4581 reviews with score 1. \n",
            "\n"
          ],
          "name": "stdout"
        }
      ]
    },
    {
      "cell_type": "markdown",
      "metadata": {
        "id": "kjeVjcrsvU7e",
        "colab_type": "text"
      },
      "source": [
        "#Export my samples."
      ]
    },
    {
      "cell_type": "code",
      "metadata": {
        "id": "0_G8C-c2vZAj",
        "colab_type": "code",
        "colab": {}
      },
      "source": [
        "reviews_1.to_pickle('reviews_1_sample.pkl')\n",
        "reviews_2.to_pickle('reviews_2_sample.pkl')\n",
        "reviews_3.to_pickle('reviews_3_sample.pkl')\n",
        "reviews_4.to_pickle('reviews_4_sample.pkl')\n",
        "reviews_5.to_pickle('reviews_5_sample.pkl')"
      ],
      "execution_count": 0,
      "outputs": []
    },
    {
      "cell_type": "code",
      "metadata": {
        "id": "TOhbxeZMvZku",
        "colab_type": "code",
        "colab": {}
      },
      "source": [
        ""
      ],
      "execution_count": 0,
      "outputs": []
    },
    {
      "cell_type": "code",
      "metadata": {
        "id": "euPLjNcPvZhP",
        "colab_type": "code",
        "colab": {}
      },
      "source": [
        ""
      ],
      "execution_count": 0,
      "outputs": []
    },
    {
      "cell_type": "code",
      "metadata": {
        "id": "7AriiWpKvZbl",
        "colab_type": "code",
        "colab": {}
      },
      "source": [
        "######### ######## ######## ######## ######## ####### End of this notebook ###### ######## ######## ######## ######## ######## "
      ],
      "execution_count": 0,
      "outputs": []
    },
    {
      "cell_type": "code",
      "metadata": {
        "id": "skEq7KZx2qCc",
        "colab_type": "code",
        "outputId": "d9446cc5-d99e-4137-9ad5-8d8a2f8ec848",
        "colab": {
          "base_uri": "https://localhost:8080/",
          "height": 86
        }
      },
      "source": [
        "reviews_1.columns"
      ],
      "execution_count": 0,
      "outputs": [
        {
          "output_type": "execute_result",
          "data": {
            "text/plain": [
              "Index(['overall', 'verified', 'reviewTime', 'reviewerID', 'asin', 'style',\n",
              "       'reviewerName', 'reviewText', 'summary', 'unixReviewTime', 'vote',\n",
              "       'image', 'reviewyear', 'reviewmonth', 'reviewday', 'season'],\n",
              "      dtype='object')"
            ]
          },
          "metadata": {
            "tags": []
          },
          "execution_count": 23
        }
      ]
    },
    {
      "cell_type": "code",
      "metadata": {
        "id": "1JFtQTeb4OVX",
        "colab_type": "code",
        "colab": {}
      },
      "source": [
        "\n",
        "def len_of_review(text):\n",
        "\n",
        "  len_sum = len(text.split())\n",
        "  return len_sum\n",
        "\n",
        "lenreview = lambda x : len_of_review(x)  "
      ],
      "execution_count": 0,
      "outputs": []
    },
    {
      "cell_type": "code",
      "metadata": {
        "id": "Wb6W-omd8A3e",
        "colab_type": "code",
        "colab": {}
      },
      "source": [
        "###Sentimental Analysis\n",
        "\n",
        "pol = lambda x: TextBlob(x).sentiment.polarity\n",
        "sub = lambda x: TextBlob(x).sentiment.subjectivity\n"
      ],
      "execution_count": 0,
      "outputs": []
    },
    {
      "cell_type": "code",
      "metadata": {
        "id": "Wzn9LeUH-9KS",
        "colab_type": "code",
        "colab": {}
      },
      "source": [
        "def clean_numbers_signs(text):\n",
        "\n",
        "  text = str(text)\n",
        "  text = re.sub('\\[.*?\\]','',text) ### get rid of the brackets\n",
        "  text = re.sub('[%s]' % re.escape(string.punctuation),'',text)  ### get rid of punctation marks.\n",
        "  text = re.sub('\\w*\\d\\w*', '',text)  ##get rid of the numbers.\n",
        "  \n",
        "\n",
        "\n",
        "  return text\n",
        "\n",
        "round1 = lambda x: clean_numbers_signs(x)"
      ],
      "execution_count": 0,
      "outputs": []
    },
    {
      "cell_type": "code",
      "metadata": {
        "id": "fmY8KWsm90um",
        "colab_type": "code",
        "colab": {}
      },
      "source": [
        "### I'm dropping reviewTime because it is the same as unixreviewTime.\n",
        "### I'm dropping reviewerName because it is uniquely associated to the reviewerID.\n",
        "### I'm filling the vote column missing values with zero.\n",
        "### I'm just considering Kindle Books, so I'm dropping no-Kindle reviews.\n",
        "\n",
        "def cleanning(dataframe):\n",
        "\n",
        "  dataframe = dataframe.copy()  \n",
        "  dataframe['overall'] = dataframe['overall'].astype(int)\n",
        "  dataframe = dataframe.drop(labels=dataframe[dataframe['style'] != 'Kindle Edition'].index, axis=0)\n",
        "  dataframe['summary'] = dataframe['summary'].apply(clean_numbers_signs)\n",
        "  dataframe['len_summary'] = dataframe['summary'].apply(lenreview)\n",
        "  dataframe['polarity_sum'] = dataframe['summary'].apply(pol)\n",
        "  dataframe['subjectivity_sum'] = dataframe['summary'].apply(sub)\n",
        "  dataframe['reviewText'] = dataframe['reviewText'].apply(clean_numbers_signs)\n",
        "  dataframe['polarity_rT'] = dataframe['reviewText'].apply(pol)\n",
        "  dataframe['subjectivity_rT'] = dataframe['reviewText'].apply(sub)  \n",
        "  dataframe['len_reviewText'] = dataframe['reviewText'].apply(lenreview)\n",
        "  dataframe['vote'] = dataframe['vote'].fillna(0)\n",
        "  dataframe['vote'] = dataframe['vote'].astype(int)\n",
        "  dataframe = dataframe.drop(columns=['reviewTime','reviewerName','style'])\n",
        "\n",
        "  return dataframe\n",
        "\n"
      ],
      "execution_count": 0,
      "outputs": []
    },
    {
      "cell_type": "code",
      "metadata": {
        "id": "oPx5G7jlFIAT",
        "colab_type": "code",
        "colab": {}
      },
      "source": [
        "\n",
        "reviews_1 = cleanning(reviews_1)\n",
        "reviews_2 = cleanning(reviews_2)\n",
        "reviews_3 = cleanning(reviews_3)\n",
        "reviews_4 = cleanning(reviews_4)\n",
        "reviews_5 = cleanning(reviews_5)"
      ],
      "execution_count": 0,
      "outputs": []
    },
    {
      "cell_type": "code",
      "metadata": {
        "id": "eYxeLXqANri0",
        "colab_type": "code",
        "colab": {}
      },
      "source": [
        "reviews = pd.concat([reviews_1,reviews_2,reviews_3,reviews_4,reviews_5]).sort_values(by='unixReviewTime').reset_index(drop=True)\n",
        "reviews"
      ],
      "execution_count": 0,
      "outputs": []
    },
    {
      "cell_type": "code",
      "metadata": {
        "id": "7fRKVgPtDaHi",
        "colab_type": "code",
        "colab": {}
      },
      "source": [
        "top50reviewers = pd.DataFrame(reviews['reviewerID'].value_counts(), index=reviews['reviewerID'].value_counts().index ).rename(columns=({'reviewerID':'number_of_reviews'})).sort_values(by='number_of_reviews',ascending=False).head(50)\n",
        "top50reviewers "
      ],
      "execution_count": 0,
      "outputs": []
    },
    {
      "cell_type": "code",
      "metadata": {
        "id": "rsikPQxWFsig",
        "colab_type": "code",
        "colab": {}
      },
      "source": [
        "top50reviewed = pd.DataFrame(reviews['asin'].value_counts(), index=reviews['asin'].value_counts().index ).rename(columns=({'asin':'number_of_reviews'})).sort_values(by='number_of_reviews',ascending=False).head(50)\n",
        "top50reviewed\n",
        "\n"
      ],
      "execution_count": 0,
      "outputs": []
    },
    {
      "cell_type": "code",
      "metadata": {
        "id": "Yi8UheJ4LYi-",
        "colab_type": "code",
        "colab": {}
      },
      "source": [
        "top50voted = reviews[['reviewerID','vote']].groupby(['reviewerID']).sum().sort_values(by='vote',ascending=False).head(50)\n",
        "top50voted\n",
        "\n",
        "\n",
        "\n"
      ],
      "execution_count": 0,
      "outputs": []
    },
    {
      "cell_type": "code",
      "metadata": {
        "id": "XAIghkwCNNuo",
        "colab_type": "code",
        "colab": {}
      },
      "source": [
        "def is_in_the_top_1(dataframe):\n",
        "\n",
        "  for i in range(len(reviews)):\n",
        "    if dataframe.loc[i,'asin'] in top50reviewers.index:\n",
        "      dataframe.loc[i,'reviewedTop50'] = True\n",
        "    else:\n",
        "      dataframe.loc[i,'reviewedTop50'] = False\n",
        "\n",
        "  return dataframe"
      ],
      "execution_count": 0,
      "outputs": []
    },
    {
      "cell_type": "code",
      "metadata": {
        "id": "4ZxaTJpTgqX8",
        "colab_type": "code",
        "colab": {}
      },
      "source": [
        "def is_in_the_top_2(dataframe):\n",
        "\n",
        "    for i in range(len(reviews)):\n",
        "      if dataframe.loc[i,'reviewerID'] in top50reviewers.index:\n",
        "        dataframe.loc[i,'reviewerTop50'] = True\n",
        "      else:\n",
        "        dataframe.loc[i,'reviewerTop50'] = False\n",
        "    return dataframe"
      ],
      "execution_count": 0,
      "outputs": []
    },
    {
      "cell_type": "code",
      "metadata": {
        "id": "MiqxEBF3gqlz",
        "colab_type": "code",
        "colab": {}
      },
      "source": [
        "def is_in_the_top_3(dataframe):\n",
        "\n",
        "  for i in range(len(reviews)):\n",
        "\n",
        "    if dataframe.loc[i,'vote'] in top50voted.index:\n",
        "      dataframe.loc[i,'votedTop50'] = True\n",
        "    else:\n",
        "      dataframe.loc[i,'votedTop50'] = False    \n",
        "\n",
        "\n",
        "  return dataframe"
      ],
      "execution_count": 0,
      "outputs": []
    },
    {
      "cell_type": "code",
      "metadata": {
        "id": "W9TLQssSRk8A",
        "colab_type": "code",
        "colab": {}
      },
      "source": [
        "###  Optional, this not improve the accuracy.\n",
        "# reviews = is_in_the_top_1(reviews)"
      ],
      "execution_count": 0,
      "outputs": []
    },
    {
      "cell_type": "code",
      "metadata": {
        "id": "qA31Imw9pC5x",
        "colab_type": "code",
        "colab": {}
      },
      "source": [
        "reviews = is_in_the_top_2(reviews)"
      ],
      "execution_count": 0,
      "outputs": []
    },
    {
      "cell_type": "code",
      "metadata": {
        "id": "LT2UhVYApTrM",
        "colab_type": "code",
        "colab": {}
      },
      "source": [
        "###  Optional, this not improve the accuracy.\n",
        "# reviews = is_in_the_top_3(reviews)\n",
        "reviews"
      ],
      "execution_count": 0,
      "outputs": []
    },
    {
      "cell_type": "code",
      "metadata": {
        "id": "5Kw97C6y821W",
        "colab_type": "code",
        "colab": {}
      },
      "source": [
        "reviews = reviews.reset_index()\n",
        "reviews = reviews.rename(columns={'index':'reviewID'})\n",
        "reviews"
      ],
      "execution_count": 0,
      "outputs": []
    },
    {
      "cell_type": "code",
      "metadata": {
        "id": "jv54-MG_UTjz",
        "colab_type": "code",
        "colab": {}
      },
      "source": [
        "print('How the scores are distributed, in the final data set?')\n",
        "\n",
        "print(reviews['overall'].value_counts(normalize=True))"
      ],
      "execution_count": 0,
      "outputs": []
    },
    {
      "cell_type": "code",
      "metadata": {
        "id": "m3uYfx5KumAc",
        "colab_type": "code",
        "colab": {}
      },
      "source": [
        "# reviews.to_pickle('reviews_base.pkl')"
      ],
      "execution_count": 0,
      "outputs": []
    },
    {
      "cell_type": "markdown",
      "metadata": {
        "id": "VoaBeJb44nJt",
        "colab_type": "text"
      },
      "source": [
        "Dividing (and saving to pickles) by score."
      ]
    },
    {
      "cell_type": "code",
      "metadata": {
        "id": "jd70WzHS4qlC",
        "colab_type": "code",
        "colab": {}
      },
      "source": [
        "\n",
        "reviews_score_1 = reviews[reviews['overall'] == 1].loc[:,:]\n",
        "# reviews_score_1.to_pickle('reviews_score_1.pkl')\n",
        "\n",
        "reviews_score_2 = reviews[reviews['overall'] == 2].loc[:,:]\n",
        "# reviews_score_2.to_pickle('reviews_score_2.pkl')\n",
        "\n",
        "reviews_score_3 = reviews[reviews['overall'] == 3].loc[:,:]\n",
        "# reviews_score_3.to_pickle('reviews_score_3.pkl')\n",
        "\n",
        "reviews_score_4_part1 = reviews[reviews['overall'] == 4].loc[0:19999,:]\n",
        "# reviews_score_4_part1.to_pickle('reviews_score_4_part1.pkl')\n",
        "reviews_score_4_part2 = reviews[reviews['overall'] == 4].loc[20000:39999,:]\n",
        "# reviews_score_4_part2.to_pickle('reviews_score_4_part2.pkl')\n",
        "reviews_score_4_part3 = reviews[reviews['overall'] == 4].loc[40000:,:]\n",
        "# reviews_score_4_part3.to_pickle('reviews_score_4_part3.pkl')\n",
        "\n",
        "reviews_score_5_part1 = reviews[reviews['overall'] == 5].loc[0:19999,:]\n",
        "# reviews_score_5_part1.to_pickle('reviews_score_5_part1.pkl')\n",
        "reviews_score_5_part2 = reviews[reviews['overall'] == 5].loc[20000:39999,:]\n",
        "# reviews_score_5_part2.to_pickle('reviews_score_5_part2.pkl')\n",
        "reviews_score_5_part3 = reviews[reviews['overall'] == 5].loc[40000:59999,:]\n",
        "# reviews_score_5_part3.to_pickle('reviews_score_5_part3.pkl')\n",
        "reviews_score_5_part4 = reviews[reviews['overall'] == 5].loc[60000:79999,:]\n",
        "# reviews_score_5_part4.to_pickle('reviews_score_5_part4.pkl')\n",
        "reviews_score_5_part5 = reviews[reviews['overall'] == 5].loc[80000:99999,:]\n",
        "# reviews_score_5_part5.to_pickle('reviews_score_5_part5.pkl')\n",
        "reviews_score_5_part6 = reviews[reviews['overall'] == 5].loc[100000:119999,:]\n",
        "# reviews_score_5_part6.to_pickle('reviews_score_5_part6.pkl')\n",
        "reviews_score_5_part7 = reviews[reviews['overall'] == 5].loc[120000:,:]\n",
        "# reviews_score_5_part7.to_pickle('reviews_score_5_part7.pkl')\n"
      ],
      "execution_count": 0,
      "outputs": []
    },
    {
      "cell_type": "code",
      "metadata": {
        "id": "NVFCoVazHTb7",
        "colab_type": "code",
        "colab": {}
      },
      "source": [
        ""
      ],
      "execution_count": 0,
      "outputs": []
    },
    {
      "cell_type": "markdown",
      "metadata": {
        "id": "1I79jOGsqwtG",
        "colab_type": "text"
      },
      "source": [
        "###Getting the TFIDF matrix"
      ]
    },
    {
      "cell_type": "code",
      "metadata": {
        "id": "7BJIEDAwq6-y",
        "colab_type": "code",
        "colab": {}
      },
      "source": [
        "### Tokenization  of text\n",
        "\n",
        "def tokenization(text):\n",
        "\n",
        "  tv = TfidfVectorizer(stop_words='english', lowercase=False)\n",
        "  data_tv = tv.fit_transform(text.summary)\n",
        "  data_dtm = pd.DataFrame(data_tv.toarray(), columns= tv.get_feature_names())\n",
        "\n",
        "  return data_dtm"
      ],
      "execution_count": 0,
      "outputs": []
    },
    {
      "cell_type": "code",
      "metadata": {
        "id": "x8eHBMB3q7QL",
        "colab_type": "code",
        "colab": {}
      },
      "source": [
        "tokenized_summary_1 = tokenization(reviews_score_1)\n",
        "\n",
        "tokenized_summary_2 = tokenization(reviews_score_2)\n",
        "\n",
        "tokenized_summary_3 = tokenization(reviews_score_3)\n",
        "\n",
        "tokenized_summary_4_part1 = tokenization(reviews_score_4_part1)\n",
        "\n",
        "tokenized_summary_4_part2 = tokenization(reviews_score_4_part2)\n",
        "\n",
        "tokenized_summary_4_part3 = tokenization(reviews_score_4_part3)\n"
      ],
      "execution_count": 0,
      "outputs": []
    },
    {
      "cell_type": "code",
      "metadata": {
        "id": "L_8JPbdGtAmO",
        "colab_type": "code",
        "colab": {}
      },
      "source": [
        "tokenized_summary_5_part1 = tokenization(reviews_score_5_part1)\n",
        "\n",
        "tokenized_summary_5_part2 = tokenization(reviews_score_5_part2)\n",
        "\n",
        "tokenized_summary_5_part3 = tokenization(reviews_score_5_part3)\n",
        "\n",
        "tokenized_summary_5_part4 = tokenization(reviews_score_5_part4)\n",
        "\n",
        "tokenized_summary_5_part5 = tokenization(reviews_score_5_part5)\n",
        "\n",
        "tokenized_summary_5_part6 = tokenization(reviews_score_5_part6)\n",
        "\n",
        "tokenized_summary_5_part7 = tokenization(reviews_score_5_part7)"
      ],
      "execution_count": 0,
      "outputs": []
    },
    {
      "cell_type": "markdown",
      "metadata": {
        "id": "9tgplHOpt7tl",
        "colab_type": "text"
      },
      "source": [
        "Getting rid of the mentioned words in less than the 0.01% of the reviews."
      ]
    },
    {
      "cell_type": "code",
      "metadata": {
        "id": "X_DK93ZKtA0X",
        "colab_type": "code",
        "colab": {}
      },
      "source": [
        "###  Define a function to get rid of the words not used in at least 0.01% of the reviews.\n",
        "\n",
        "def get_rid_uncommon_words(text):\n",
        "    most_common_words = (text.sum().sort_values())[(text.sum().sort_values()> len(text)*.001).values.tolist()].index.tolist()\n",
        "    tokenized_summary = text[most_common_words]\n",
        "    return tokenized_summary"
      ],
      "execution_count": 0,
      "outputs": []
    },
    {
      "cell_type": "code",
      "metadata": {
        "id": "RHArI0intAui",
        "colab_type": "code",
        "colab": {}
      },
      "source": [
        "tokenized_summary_1 = get_rid_uncommon_words(tokenized_summary_1)\n",
        "tokenized_summary_2 = get_rid_uncommon_words(tokenized_summary_2)\n",
        "tokenized_summary_3 = get_rid_uncommon_words(tokenized_summary_3)\n",
        "\n",
        "tokenized_summary_4_part1 = get_rid_uncommon_words(tokenized_summary_4_part1)\n",
        "tokenized_summary_4_part2 = get_rid_uncommon_words(tokenized_summary_4_part2)\n",
        "tokenized_summary_4_part3 = get_rid_uncommon_words(tokenized_summary_4_part3)"
      ],
      "execution_count": 0,
      "outputs": []
    },
    {
      "cell_type": "code",
      "metadata": {
        "id": "lA3y3luMq7dY",
        "colab_type": "code",
        "colab": {}
      },
      "source": [
        "tokenized_summary_5_part1 = get_rid_uncommon_words(tokenized_summary_5_part1)\n",
        "tokenized_summary_5_part2 = get_rid_uncommon_words(tokenized_summary_5_part2)\n",
        "tokenized_summary_5_part3 = get_rid_uncommon_words(tokenized_summary_5_part3)\n",
        "tokenized_summary_5_part4 = get_rid_uncommon_words(tokenized_summary_5_part4)\n",
        "tokenized_summary_5_part5 = get_rid_uncommon_words(tokenized_summary_5_part5)\n",
        "tokenized_summary_5_part6 = get_rid_uncommon_words(tokenized_summary_5_part6)\n",
        "tokenized_summary_5_part7 = get_rid_uncommon_words(tokenized_summary_5_part7)\n"
      ],
      "execution_count": 0,
      "outputs": []
    },
    {
      "cell_type": "code",
      "metadata": {
        "id": "rnhs_G_xq7au",
        "colab_type": "code",
        "colab": {}
      },
      "source": [
        "tokenized_summary_4 = pd.concat([tokenized_summary_4_part1, tokenized_summary_4_part2, tokenized_summary_4_part3], axis = 0, join='outer', sort=False).fillna(0)\n",
        "tokenized_summary_4"
      ],
      "execution_count": 0,
      "outputs": []
    },
    {
      "cell_type": "code",
      "metadata": {
        "id": "BgcUClCmq7Xp",
        "colab_type": "code",
        "colab": {}
      },
      "source": [
        "tokenized_summary_5 = pd.concat([tokenized_summary_5_part1, tokenized_summary_5_part2, tokenized_summary_5_part3, tokenized_summary_5_part4, tokenized_summary_5_part5, tokenized_summary_5_part6, tokenized_summary_5_part7], axis = 0, join='outer', sort=False).fillna(0)\n",
        "tokenized_summary_5"
      ],
      "execution_count": 0,
      "outputs": []
    },
    {
      "cell_type": "code",
      "metadata": {
        "id": "lgAdGGHqq7Ur",
        "colab_type": "code",
        "colab": {}
      },
      "source": [
        ""
      ],
      "execution_count": 0,
      "outputs": []
    },
    {
      "cell_type": "code",
      "metadata": {
        "id": "Z-N61oshtlus",
        "colab_type": "code",
        "colab": {}
      },
      "source": [
        ""
      ],
      "execution_count": 0,
      "outputs": []
    },
    {
      "cell_type": "code",
      "metadata": {
        "id": "N5OsL1VAtl-e",
        "colab_type": "code",
        "colab": {}
      },
      "source": [
        ""
      ],
      "execution_count": 0,
      "outputs": []
    },
    {
      "cell_type": "code",
      "metadata": {
        "id": "puiMniJMtmWS",
        "colab_type": "code",
        "colab": {}
      },
      "source": [
        ""
      ],
      "execution_count": 0,
      "outputs": []
    },
    {
      "cell_type": "code",
      "metadata": {
        "id": "-O1zxpdItmSd",
        "colab_type": "code",
        "colab": {}
      },
      "source": [
        ""
      ],
      "execution_count": 0,
      "outputs": []
    },
    {
      "cell_type": "code",
      "metadata": {
        "id": "deiHpFI6tmLL",
        "colab_type": "code",
        "colab": {}
      },
      "source": [
        ""
      ],
      "execution_count": 0,
      "outputs": []
    },
    {
      "cell_type": "markdown",
      "metadata": {
        "id": "OqyS8HOe0OBs",
        "colab_type": "text"
      },
      "source": [
        "###Preprocessing the data"
      ]
    },
    {
      "cell_type": "code",
      "metadata": {
        "id": "QVJdn0z30LUS",
        "colab_type": "code",
        "colab": {}
      },
      "source": [
        "### Defining the basics:\n",
        "\n",
        "train, val = train_test_split(reviews, train_size=0.80, test_size=0.20,\n",
        "                              stratify=reviews['overall'], random_state=42)\n",
        "\n",
        "train.shape, val.shape"
      ],
      "execution_count": 0,
      "outputs": []
    },
    {
      "cell_type": "code",
      "metadata": {
        "id": "NwRaxxfATxWn",
        "colab_type": "code",
        "colab": {}
      },
      "source": [
        "### Set the variables.\n",
        "\n",
        "target ='overall'\n",
        "\n",
        "features = train.columns.drop(target,'reviewID')\n",
        "\n",
        "X_train = train[features]\n",
        "X_val = val[features]\n",
        "\n",
        "y_train = train[target]\n",
        "y_val = val[target]"
      ],
      "execution_count": 0,
      "outputs": []
    },
    {
      "cell_type": "code",
      "metadata": {
        "id": "v9miTA4O1RZw",
        "colab_type": "code",
        "colab": {}
      },
      "source": [
        "encoder = ce.OrdinalEncoder()\n",
        "X_train_encoded = encoder.fit_transform(X_train)\n",
        "X_val_encoded = encoder.transform(X_val)"
      ],
      "execution_count": 0,
      "outputs": []
    },
    {
      "cell_type": "code",
      "metadata": {
        "id": "fRZtIF2n0LnO",
        "colab_type": "code",
        "colab": {}
      },
      "source": [
        "scaler = StandardScaler()\n",
        "\n",
        "X_train_scaled = scaler.fit_transform(X_train_encoded)\n",
        "X_val_scaled = scaler.transform(X_val_encoded)"
      ],
      "execution_count": 0,
      "outputs": []
    },
    {
      "cell_type": "code",
      "metadata": {
        "id": "rIoU1xCi0LyD",
        "colab_type": "code",
        "colab": {}
      },
      "source": [
        ""
      ],
      "execution_count": 0,
      "outputs": []
    },
    {
      "cell_type": "markdown",
      "metadata": {
        "id": "kRysRd34CW7l",
        "colab_type": "text"
      },
      "source": [
        "## Step  - LogisticRegressionCV"
      ]
    },
    {
      "cell_type": "code",
      "metadata": {
        "id": "cEqwX_HX1jg6",
        "colab_type": "code",
        "colab": {}
      },
      "source": [
        "X_train_lrcv = X_train_scaled \n",
        "X_val_lrcv =X_val_scaled  \n"
      ],
      "execution_count": 0,
      "outputs": []
    },
    {
      "cell_type": "code",
      "metadata": {
        "id": "kmaxp5f5TxaY",
        "colab_type": "code",
        "colab": {}
      },
      "source": [
        "pipeline = make_pipeline(\n",
        "    LogisticRegressionCV(solver='newton-cg',\n",
        "                         class_weight='balanced',\n",
        "                         n_jobs=-1,\n",
        "                         multi_class='ovr',\n",
        "                         random_state=42)\n",
        "    \n",
        ")\n",
        "\n",
        "pipeline.fit(X_train_lrcv, y_train)\n",
        "score = pipeline.score(X_train_lrcv, y_train)\n",
        "score1 = pipeline.score(X_val_lrcv, y_val)\n",
        "\n",
        "print(f'Training Accuracy:{score}')\n",
        "print(f'Validation Accuracy:{score1}')"
      ],
      "execution_count": 0,
      "outputs": []
    },
    {
      "cell_type": "code",
      "metadata": {
        "id": "EaaGmlYdTxeh",
        "colab_type": "code",
        "colab": {}
      },
      "source": [
        ""
      ],
      "execution_count": 0,
      "outputs": []
    },
    {
      "cell_type": "code",
      "metadata": {
        "id": "JiRcCq7WkKYY",
        "colab_type": "code",
        "colab": {}
      },
      "source": [
        ""
      ],
      "execution_count": 0,
      "outputs": []
    },
    {
      "cell_type": "code",
      "metadata": {
        "id": "nRrX_qGckK3r",
        "colab_type": "code",
        "colab": {}
      },
      "source": [
        ""
      ],
      "execution_count": 0,
      "outputs": []
    },
    {
      "cell_type": "markdown",
      "metadata": {
        "id": "4EUFHGYki7Eq",
        "colab_type": "text"
      },
      "source": [
        "## Step 3 RadomForestClassifier "
      ]
    },
    {
      "cell_type": "code",
      "metadata": {
        "id": "opLt5wKN12lS",
        "colab_type": "code",
        "colab": {}
      },
      "source": [
        "X_train_rfc = pd.DataFrame(X_train_scaled,columns=X_train.columns)\n",
        "X_val_rfc =pd.DataFrame(X_val_scaled,columns=X_train.columns) \n",
        "\n",
        "\n"
      ],
      "execution_count": 0,
      "outputs": []
    },
    {
      "cell_type": "code",
      "metadata": {
        "id": "P7RC0DdbjMgr",
        "colab_type": "code",
        "colab": {}
      },
      "source": [
        "pipeline = make_pipeline(\n",
        "    RandomForestClassifier(random_state=42, n_jobs=-1, n_estimators=300, max_depth=100, min_samples_split=25)\n",
        "    \n",
        ")\n",
        "\n",
        "pipeline.fit(X_train_rfc, y_train)\n",
        "score = pipeline.score(X_train_rfc, y_train)\n",
        "score1 = pipeline.score(X_val_rfc, y_val)\n",
        "\n",
        "print(f'Training Accuracy:{score}')\n",
        "print(f'Validation Accuracy:{score1}')"
      ],
      "execution_count": 0,
      "outputs": []
    },
    {
      "cell_type": "code",
      "metadata": {
        "id": "NArfNO_djVPr",
        "colab_type": "code",
        "colab": {}
      },
      "source": [
        "plot_confusion_matrix(pipeline,X_val_rfc,y_val,xticks_rotation='vertical', values_format='.0f')"
      ],
      "execution_count": 0,
      "outputs": []
    },
    {
      "cell_type": "code",
      "metadata": {
        "id": "uxWjk5_ojlw0",
        "colab_type": "code",
        "colab": {}
      },
      "source": [
        "# Get feature importances\n",
        "rf = pipeline.named_steps['randomforestclassifier']\n",
        "importances = pd.Series(rf.feature_importances_, X_train_rfc.columns)\n",
        "\n",
        "# Plot feature importances\n",
        "%matplotlib inline\n",
        "import matplotlib.pyplot as plt\n",
        "\n",
        "n = 50\n",
        "plt.figure(figsize=(10,n/2))\n",
        "plt.title(f'Top {n} features')\n",
        "importances.sort_values()[-n:].plot.barh(color='grey');"
      ],
      "execution_count": 0,
      "outputs": []
    },
    {
      "cell_type": "code",
      "metadata": {
        "id": "EkZAG5X_jn6P",
        "colab_type": "code",
        "colab": {}
      },
      "source": [
        ""
      ],
      "execution_count": 0,
      "outputs": []
    },
    {
      "cell_type": "code",
      "metadata": {
        "id": "1_l8RXo5jXK_",
        "colab_type": "code",
        "colab": {}
      },
      "source": [
        "permuter = PermutationImportance(\n",
        "    pipeline,\n",
        "    scoring='accuracy',\n",
        "    n_iter=5,\n",
        "    random_state=42\n",
        ")\n",
        "\n",
        "permuter.fit(X_val_rfc,y_val)"
      ],
      "execution_count": 0,
      "outputs": []
    },
    {
      "cell_type": "code",
      "metadata": {
        "id": "EkCeE2oDjZDm",
        "colab_type": "code",
        "colab": {}
      },
      "source": [
        "feature_names = X_val_rfc.columns.tolist()\n",
        "\n",
        "eli5.show_weights(\n",
        "    permuter,\n",
        "    top=None,\n",
        "    feature_names=feature_names\n",
        ")   "
      ],
      "execution_count": 0,
      "outputs": []
    },
    {
      "cell_type": "code",
      "metadata": {
        "id": "EizOSCcPjbxu",
        "colab_type": "code",
        "colab": {}
      },
      "source": [
        "minimum_importance = 0\n",
        "mask = permuter.feature_importances_ > minimum_importance\n",
        "features_rfc = X_train_rfc.columns[mask]\n",
        "X_train_rfc = X_train_rfc[features_rfc]\n",
        "X_val_rfc = X_val_rfc[features_rfc]"
      ],
      "execution_count": 0,
      "outputs": []
    },
    {
      "cell_type": "code",
      "metadata": {
        "id": "OuOF2ICijeqj",
        "colab_type": "code",
        "colab": {}
      },
      "source": [
        "pipeline = make_pipeline(\n",
        "    RandomForestClassifier(random_state=42, n_jobs=-1, n_estimators=300, max_depth=100, min_samples_split=25)\n",
        "    \n",
        ")\n",
        "\n",
        "pipeline.fit(X_train_rfc, y_train)\n",
        "score = pipeline.score(X_train_rfc, y_train)\n",
        "score1 = pipeline.score(X_val_rfc, y_val)\n",
        "\n",
        "print(f'Training Accuracy:{score}')\n",
        "print(f'Validation Accuracy:{score1}')"
      ],
      "execution_count": 0,
      "outputs": []
    },
    {
      "cell_type": "code",
      "metadata": {
        "id": "tIW9-Jz-33fA",
        "colab_type": "code",
        "colab": {}
      },
      "source": [
        "plot_confusion_matrix(pipeline,X_val_rfc,y_val,xticks_rotation='vertical', values_format='.0f')\n"
      ],
      "execution_count": 0,
      "outputs": []
    },
    {
      "cell_type": "code",
      "metadata": {
        "id": "z7vjOVai34M4",
        "colab_type": "code",
        "colab": {}
      },
      "source": [
        "# Get feature importances\n",
        "rf = pipeline.named_steps['randomforestclassifier']\n",
        "importances = pd.Series(rf.feature_importances_, X_train_rfc.columns)\n",
        "\n",
        "# Plot feature importances\n",
        "%matplotlib inline\n",
        "import matplotlib.pyplot as plt\n",
        "\n",
        "n = 50\n",
        "plt.figure(figsize=(10,n/2))\n",
        "plt.title(f'Top {n} features')\n",
        "importances.sort_values()[-n:].plot.barh(color='grey');"
      ],
      "execution_count": 0,
      "outputs": []
    },
    {
      "cell_type": "markdown",
      "metadata": {
        "id": "S3vVU2YrvnCW",
        "colab_type": "text"
      },
      "source": [
        "# Draft"
      ]
    },
    {
      "cell_type": "code",
      "metadata": {
        "id": "Pfjc8hHqTwSF",
        "colab_type": "code",
        "colab": {}
      },
      "source": [
        ""
      ],
      "execution_count": 0,
      "outputs": []
    }
  ]
}