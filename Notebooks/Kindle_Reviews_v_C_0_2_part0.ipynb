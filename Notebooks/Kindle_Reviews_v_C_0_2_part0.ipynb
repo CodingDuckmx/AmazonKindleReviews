{
  "nbformat": 4,
  "nbformat_minor": 0,
  "metadata": {
    "colab": {
      "name": "Kindle Reviews v_C_0_2_part0.ipynb",
      "provenance": [],
      "collapsed_sections": [],
      "machine_shape": "hm",
      "mount_file_id": "1wI3xHWde47dP8LcIg28H8I1TkmLNER8q",
      "authorship_tag": "ABX9TyOZKYB6WHp82C61NPwjyetz",
      "include_colab_link": true
    },
    "kernelspec": {
      "name": "python3",
      "display_name": "Python 3"
    }
  },
  "cells": [
    {
      "cell_type": "markdown",
      "metadata": {
        "id": "view-in-github",
        "colab_type": "text"
      },
      "source": [
        "<a href=\"https://colab.research.google.com/github/CodingDuckmx/AmazonKindleReviews/blob/master/Notebooks/Kindle_Reviews_v_C_0_2_part0.ipynb\" target=\"_parent\"><img src=\"https://colab.research.google.com/assets/colab-badge.svg\" alt=\"Open In Colab\"/></a>"
      ]
    },
    {
      "cell_type": "markdown",
      "metadata": {
        "id": "edZSFCUre2uS",
        "colab_type": "text"
      },
      "source": [
        "Info about the data set.\n",
        "\n",
        "columns:\n",
        "\n",
        "\n",
        "    asin - ID of the product, e.g. 0000031852\n",
        "    vote - helpful votes of the review\n",
        "\n"
      ]
    },
    {
      "cell_type": "markdown",
      "metadata": {
        "id": "k36uaGu8rURJ",
        "colab_type": "text"
      },
      "source": [
        "# Import libraries section."
      ]
    },
    {
      "cell_type": "code",
      "metadata": {
        "id": "En2Js-htrXnE",
        "colab_type": "code",
        "colab": {}
      },
      "source": [
        "import os\n",
        "import gzip\n",
        "import json\n",
        "import pandas as pd\n",
        "import numpy as np\n",
        "import matplotlib.pyplot as plt\n",
        "from urllib.request import urlopen\n",
        "import string\n",
        "import seaborn as sns\n",
        "import pickle\n",
        "\n",
        "\n",
        "\n",
        "## Half fun half work\n",
        "from IPython.display import Audio"
      ],
      "execution_count": 0,
      "outputs": []
    },
    {
      "cell_type": "markdown",
      "metadata": {
        "id": "NwW0B2L_HVxH",
        "colab_type": "text"
      },
      "source": [
        "# Area 501"
      ]
    },
    {
      "cell_type": "code",
      "metadata": {
        "id": "3_WRllg1IU2R",
        "colab_type": "code",
        "colab": {}
      },
      "source": [
        "#  !wget http://deepyeti.ucsd.edu/jianmo/amazon/categoryFilesSmall/Kindle_Store_5.json.gz"
      ],
      "execution_count": 0,
      "outputs": []
    },
    {
      "cell_type": "code",
      "metadata": {
        "id": "TZv8enp3HYvE",
        "colab_type": "code",
        "outputId": "591d264b-1727-4a45-df1b-7f574012d37a",
        "colab": {
          "base_uri": "https://localhost:8080/",
          "height": 73
        }
      },
      "source": [
        "# Decompress the file\n",
        "\n",
        "data = []\n",
        "with gzip.open('Kindle_Store_5.json.gz') as f:\n",
        "    for l in f:\n",
        "        data.append(json.loads(l.strip()))\n",
        "    \n",
        "# total length of list, this number equals total number of products\n",
        "print(len(data))\n",
        "\n",
        "# first row of the list\n",
        "print(data[0])"
      ],
      "execution_count": 7,
      "outputs": [
        {
          "output_type": "stream",
          "text": [
            "2222983\n",
            "{'overall': 4.0, 'verified': True, 'reviewTime': '07 3, 2014', 'reviewerID': 'A2LSKD2H9U8N0J', 'asin': 'B000FA5KK0', 'style': {'Format:': ' Kindle Edition'}, 'reviewerName': 'sandra sue marsolek', 'reviewText': 'pretty good story, a little exaggerated, but I liked it pretty well.  liked the characters, the plot..it had mystery, action, love, all of the main things. I think most western lovers would injoy this book', 'summary': 'pretty good story', 'unixReviewTime': 1404345600}\n"
          ],
          "name": "stdout"
        }
      ]
    },
    {
      "cell_type": "code",
      "metadata": {
        "id": "wu3oR70kPApJ",
        "colab_type": "code",
        "outputId": "7e51ffb3-a8e0-428b-fb0f-da9483f82b41",
        "colab": {
          "base_uri": "https://localhost:8080/",
          "height": 311
        }
      },
      "source": [
        "### Convert the file into a DataFram\n",
        "\n",
        "kr = pd.DataFrame.from_dict(data)\n",
        "\n",
        "print(kr.shape)\n",
        "\n",
        "kr.head()"
      ],
      "execution_count": 8,
      "outputs": [
        {
          "output_type": "stream",
          "text": [
            "(2222983, 12)\n"
          ],
          "name": "stdout"
        },
        {
          "output_type": "execute_result",
          "data": {
            "text/html": [
              "<div>\n",
              "<style scoped>\n",
              "    .dataframe tbody tr th:only-of-type {\n",
              "        vertical-align: middle;\n",
              "    }\n",
              "\n",
              "    .dataframe tbody tr th {\n",
              "        vertical-align: top;\n",
              "    }\n",
              "\n",
              "    .dataframe thead th {\n",
              "        text-align: right;\n",
              "    }\n",
              "</style>\n",
              "<table border=\"1\" class=\"dataframe\">\n",
              "  <thead>\n",
              "    <tr style=\"text-align: right;\">\n",
              "      <th></th>\n",
              "      <th>overall</th>\n",
              "      <th>verified</th>\n",
              "      <th>reviewTime</th>\n",
              "      <th>reviewerID</th>\n",
              "      <th>asin</th>\n",
              "      <th>style</th>\n",
              "      <th>reviewerName</th>\n",
              "      <th>reviewText</th>\n",
              "      <th>summary</th>\n",
              "      <th>unixReviewTime</th>\n",
              "      <th>vote</th>\n",
              "      <th>image</th>\n",
              "    </tr>\n",
              "  </thead>\n",
              "  <tbody>\n",
              "    <tr>\n",
              "      <th>0</th>\n",
              "      <td>4.0</td>\n",
              "      <td>True</td>\n",
              "      <td>07 3, 2014</td>\n",
              "      <td>A2LSKD2H9U8N0J</td>\n",
              "      <td>B000FA5KK0</td>\n",
              "      <td>{'Format:': ' Kindle Edition'}</td>\n",
              "      <td>sandra sue marsolek</td>\n",
              "      <td>pretty good story, a little exaggerated, but I...</td>\n",
              "      <td>pretty good story</td>\n",
              "      <td>1404345600</td>\n",
              "      <td>NaN</td>\n",
              "      <td>NaN</td>\n",
              "    </tr>\n",
              "    <tr>\n",
              "      <th>1</th>\n",
              "      <td>5.0</td>\n",
              "      <td>True</td>\n",
              "      <td>05 26, 2014</td>\n",
              "      <td>A2QP13XTJND1QS</td>\n",
              "      <td>B000FA5KK0</td>\n",
              "      <td>{'Format:': ' Kindle Edition'}</td>\n",
              "      <td>Tpl</td>\n",
              "      <td>If you've read other max brand westerns, you k...</td>\n",
              "      <td>A very good book</td>\n",
              "      <td>1401062400</td>\n",
              "      <td>NaN</td>\n",
              "      <td>NaN</td>\n",
              "    </tr>\n",
              "    <tr>\n",
              "      <th>2</th>\n",
              "      <td>5.0</td>\n",
              "      <td>True</td>\n",
              "      <td>09 16, 2016</td>\n",
              "      <td>A8WQ7MAG3HFOZ</td>\n",
              "      <td>B000FA5KK0</td>\n",
              "      <td>{'Format:': ' Kindle Edition'}</td>\n",
              "      <td>Alverne F. Anderson</td>\n",
              "      <td>Love Max, always a fun twist</td>\n",
              "      <td>Five Stars</td>\n",
              "      <td>1473984000</td>\n",
              "      <td>NaN</td>\n",
              "      <td>NaN</td>\n",
              "    </tr>\n",
              "    <tr>\n",
              "      <th>3</th>\n",
              "      <td>5.0</td>\n",
              "      <td>True</td>\n",
              "      <td>03 3, 2016</td>\n",
              "      <td>A1E0MODSRYP7O</td>\n",
              "      <td>B000FA5KK0</td>\n",
              "      <td>{'Format:': ' Kindle Edition'}</td>\n",
              "      <td>Jeff</td>\n",
              "      <td>As usual for him, a good book</td>\n",
              "      <td>a good</td>\n",
              "      <td>1456963200</td>\n",
              "      <td>NaN</td>\n",
              "      <td>NaN</td>\n",
              "    </tr>\n",
              "    <tr>\n",
              "      <th>4</th>\n",
              "      <td>5.0</td>\n",
              "      <td>True</td>\n",
              "      <td>09 10, 2015</td>\n",
              "      <td>AYUTCGVSM1H7T</td>\n",
              "      <td>B000FA5KK0</td>\n",
              "      <td>{'Format:': ' Kindle Edition'}</td>\n",
              "      <td>DEHS - EddyRapcon</td>\n",
              "      <td>MB is one of the original western writers and ...</td>\n",
              "      <td>A Western</td>\n",
              "      <td>1441843200</td>\n",
              "      <td>2</td>\n",
              "      <td>NaN</td>\n",
              "    </tr>\n",
              "  </tbody>\n",
              "</table>\n",
              "</div>"
            ],
            "text/plain": [
              "   overall  verified   reviewTime  ... unixReviewTime vote image\n",
              "0      4.0      True   07 3, 2014  ...     1404345600  NaN   NaN\n",
              "1      5.0      True  05 26, 2014  ...     1401062400  NaN   NaN\n",
              "2      5.0      True  09 16, 2016  ...     1473984000  NaN   NaN\n",
              "3      5.0      True   03 3, 2016  ...     1456963200  NaN   NaN\n",
              "4      5.0      True  09 10, 2015  ...     1441843200    2   NaN\n",
              "\n",
              "[5 rows x 12 columns]"
            ]
          },
          "metadata": {
            "tags": []
          },
          "execution_count": 8
        }
      ]
    },
    {
      "cell_type": "markdown",
      "metadata": {
        "id": "Hsa_xLj3vtzw",
        "colab_type": "text"
      },
      "source": [
        "The format in the Style and image column may difficult the identification of the type of the values, so I'll force to become strings."
      ]
    },
    {
      "cell_type": "code",
      "metadata": {
        "id": "yZNdjUpBYLhh",
        "colab_type": "code",
        "colab": {}
      },
      "source": [
        "kr['style'] = kr['style'].astype(str)\n",
        "kr['image'] = kr['image'].astype(str)"
      ],
      "execution_count": 0,
      "outputs": []
    },
    {
      "cell_type": "markdown",
      "metadata": {
        "id": "io-R-Y8JpEyj",
        "colab_type": "text"
      },
      "source": [
        "Checking for type, null values and null values."
      ]
    },
    {
      "cell_type": "code",
      "metadata": {
        "id": "N_7tq8W8TFWe",
        "colab_type": "code",
        "outputId": "592f8910-04be-4063-d774-5be9524adca2",
        "colab": {
          "base_uri": "https://localhost:8080/",
          "height": 426
        }
      },
      "source": [
        "infodf = pd.concat([pd.DataFrame(kr.dtypes),pd.DataFrame(kr.isnull().sum()),pd.DataFrame(round((kr.isnull().sum() / len(kr)) * 100 , 2)), pd.DataFrame(kr.nunique()), pd.DataFrame(round(kr.nunique()/ len(kr) *100,2))], axis=1, join='inner')\n",
        "\n",
        "infodf.columns = ['Type','Null values', '% of NaNs', 'Unique values', '% of unique values']\n",
        "infodf = infodf.sort_values(by=['Type','Null values', 'Unique values'])\n",
        "\n",
        "infodf.head(15)"
      ],
      "execution_count": 10,
      "outputs": [
        {
          "output_type": "execute_result",
          "data": {
            "text/html": [
              "<div>\n",
              "<style scoped>\n",
              "    .dataframe tbody tr th:only-of-type {\n",
              "        vertical-align: middle;\n",
              "    }\n",
              "\n",
              "    .dataframe tbody tr th {\n",
              "        vertical-align: top;\n",
              "    }\n",
              "\n",
              "    .dataframe thead th {\n",
              "        text-align: right;\n",
              "    }\n",
              "</style>\n",
              "<table border=\"1\" class=\"dataframe\">\n",
              "  <thead>\n",
              "    <tr style=\"text-align: right;\">\n",
              "      <th></th>\n",
              "      <th>Type</th>\n",
              "      <th>Null values</th>\n",
              "      <th>% of NaNs</th>\n",
              "      <th>Unique values</th>\n",
              "      <th>% of unique values</th>\n",
              "    </tr>\n",
              "  </thead>\n",
              "  <tbody>\n",
              "    <tr>\n",
              "      <th>verified</th>\n",
              "      <td>bool</td>\n",
              "      <td>0</td>\n",
              "      <td>0.00</td>\n",
              "      <td>2</td>\n",
              "      <td>0.00</td>\n",
              "    </tr>\n",
              "    <tr>\n",
              "      <th>unixReviewTime</th>\n",
              "      <td>int64</td>\n",
              "      <td>0</td>\n",
              "      <td>0.00</td>\n",
              "      <td>4838</td>\n",
              "      <td>0.22</td>\n",
              "    </tr>\n",
              "    <tr>\n",
              "      <th>overall</th>\n",
              "      <td>float64</td>\n",
              "      <td>0</td>\n",
              "      <td>0.00</td>\n",
              "      <td>5</td>\n",
              "      <td>0.00</td>\n",
              "    </tr>\n",
              "    <tr>\n",
              "      <th>style</th>\n",
              "      <td>object</td>\n",
              "      <td>0</td>\n",
              "      <td>0.00</td>\n",
              "      <td>27</td>\n",
              "      <td>0.00</td>\n",
              "    </tr>\n",
              "    <tr>\n",
              "      <th>image</th>\n",
              "      <td>object</td>\n",
              "      <td>0</td>\n",
              "      <td>0.00</td>\n",
              "      <td>1242</td>\n",
              "      <td>0.06</td>\n",
              "    </tr>\n",
              "    <tr>\n",
              "      <th>reviewTime</th>\n",
              "      <td>object</td>\n",
              "      <td>0</td>\n",
              "      <td>0.00</td>\n",
              "      <td>4838</td>\n",
              "      <td>0.22</td>\n",
              "    </tr>\n",
              "    <tr>\n",
              "      <th>asin</th>\n",
              "      <td>object</td>\n",
              "      <td>0</td>\n",
              "      <td>0.00</td>\n",
              "      <td>98824</td>\n",
              "      <td>4.45</td>\n",
              "    </tr>\n",
              "    <tr>\n",
              "      <th>reviewerID</th>\n",
              "      <td>object</td>\n",
              "      <td>0</td>\n",
              "      <td>0.00</td>\n",
              "      <td>139824</td>\n",
              "      <td>6.29</td>\n",
              "    </tr>\n",
              "    <tr>\n",
              "      <th>reviewerName</th>\n",
              "      <td>object</td>\n",
              "      <td>127</td>\n",
              "      <td>0.01</td>\n",
              "      <td>102643</td>\n",
              "      <td>4.62</td>\n",
              "    </tr>\n",
              "    <tr>\n",
              "      <th>reviewText</th>\n",
              "      <td>object</td>\n",
              "      <td>403</td>\n",
              "      <td>0.02</td>\n",
              "      <td>2114480</td>\n",
              "      <td>95.12</td>\n",
              "    </tr>\n",
              "    <tr>\n",
              "      <th>summary</th>\n",
              "      <td>object</td>\n",
              "      <td>1755</td>\n",
              "      <td>0.08</td>\n",
              "      <td>1260992</td>\n",
              "      <td>56.73</td>\n",
              "    </tr>\n",
              "    <tr>\n",
              "      <th>vote</th>\n",
              "      <td>object</td>\n",
              "      <td>1931032</td>\n",
              "      <td>86.87</td>\n",
              "      <td>274</td>\n",
              "      <td>0.01</td>\n",
              "    </tr>\n",
              "  </tbody>\n",
              "</table>\n",
              "</div>"
            ],
            "text/plain": [
              "                   Type  Null values  ...  Unique values  % of unique values\n",
              "verified           bool            0  ...              2                0.00\n",
              "unixReviewTime    int64            0  ...           4838                0.22\n",
              "overall         float64            0  ...              5                0.00\n",
              "style            object            0  ...             27                0.00\n",
              "image            object            0  ...           1242                0.06\n",
              "reviewTime       object            0  ...           4838                0.22\n",
              "asin             object            0  ...          98824                4.45\n",
              "reviewerID       object            0  ...         139824                6.29\n",
              "reviewerName     object          127  ...         102643                4.62\n",
              "reviewText       object          403  ...        2114480               95.12\n",
              "summary          object         1755  ...        1260992               56.73\n",
              "vote             object      1931032  ...            274                0.01\n",
              "\n",
              "[12 rows x 5 columns]"
            ]
          },
          "metadata": {
            "tags": []
          },
          "execution_count": 10
        }
      ]
    },
    {
      "cell_type": "code",
      "metadata": {
        "id": "hky1gJOwOiJx",
        "colab_type": "code",
        "outputId": "f76c8991-18d2-4545-bc0d-184bea90e4a3",
        "colab": {
          "base_uri": "https://localhost:8080/",
          "height": 53
        }
      },
      "source": [
        "### Notice\n",
        "\n",
        "unique_reviewsText = infodf.loc['reviewText','Unique values']\n",
        "\n",
        "duplicate_reviewText = len(kr) - unique_reviewsText - 1\n",
        "\n",
        "print(f'Notice: we have {len(kr)} rows in the dataframe but we olny have {unique_reviewsText} unique rows, so we have some identical rows we have to get rid of.')\n",
        "print(f'So, we have {duplicate_reviewText} rows duplicated.')\n",
        "\n"
      ],
      "execution_count": 11,
      "outputs": [
        {
          "output_type": "stream",
          "text": [
            "Notice: we have 2222983 rows in the dataframe but we olny have 2114480 unique rows, so we have some identical rows we have to get rid of.\n",
            "So, we have 108502 rows duplicated.\n"
          ],
          "name": "stdout"
        }
      ]
    },
    {
      "cell_type": "markdown",
      "metadata": {
        "id": "sqZmnrSypsot",
        "colab_type": "text"
      },
      "source": [
        "Checking for type, null values and null values, once again."
      ]
    },
    {
      "cell_type": "code",
      "metadata": {
        "id": "3q_-HVvOOiYL",
        "colab_type": "code",
        "outputId": "51d54f63-8d3b-40d0-822f-b4461d90dff2",
        "colab": {
          "base_uri": "https://localhost:8080/",
          "height": 426
        }
      },
      "source": [
        "kr.drop_duplicates(subset='reviewText',keep='first', inplace=True)\n",
        "\n",
        "infodf = pd.concat([pd.DataFrame(kr.dtypes),pd.DataFrame(kr.isnull().sum()),pd.DataFrame(round((kr.isnull().sum() / len(kr)) * 100 , 2)), pd.DataFrame(kr.nunique()), pd.DataFrame(round(kr.nunique()/ len(kr) *100,2))], axis=1, join='inner')\n",
        "\n",
        "infodf.columns = ['Type','Null values', '% of NaNs', 'Unique values', '% of unique values']\n",
        "infodf = infodf.sort_values(by=['Type','Null values', 'Unique values'])\n",
        "\n",
        "infodf.head(15)"
      ],
      "execution_count": 12,
      "outputs": [
        {
          "output_type": "execute_result",
          "data": {
            "text/html": [
              "<div>\n",
              "<style scoped>\n",
              "    .dataframe tbody tr th:only-of-type {\n",
              "        vertical-align: middle;\n",
              "    }\n",
              "\n",
              "    .dataframe tbody tr th {\n",
              "        vertical-align: top;\n",
              "    }\n",
              "\n",
              "    .dataframe thead th {\n",
              "        text-align: right;\n",
              "    }\n",
              "</style>\n",
              "<table border=\"1\" class=\"dataframe\">\n",
              "  <thead>\n",
              "    <tr style=\"text-align: right;\">\n",
              "      <th></th>\n",
              "      <th>Type</th>\n",
              "      <th>Null values</th>\n",
              "      <th>% of NaNs</th>\n",
              "      <th>Unique values</th>\n",
              "      <th>% of unique values</th>\n",
              "    </tr>\n",
              "  </thead>\n",
              "  <tbody>\n",
              "    <tr>\n",
              "      <th>verified</th>\n",
              "      <td>bool</td>\n",
              "      <td>0</td>\n",
              "      <td>0.00</td>\n",
              "      <td>2</td>\n",
              "      <td>0.00</td>\n",
              "    </tr>\n",
              "    <tr>\n",
              "      <th>unixReviewTime</th>\n",
              "      <td>int64</td>\n",
              "      <td>0</td>\n",
              "      <td>0.00</td>\n",
              "      <td>4819</td>\n",
              "      <td>0.23</td>\n",
              "    </tr>\n",
              "    <tr>\n",
              "      <th>overall</th>\n",
              "      <td>float64</td>\n",
              "      <td>0</td>\n",
              "      <td>0.00</td>\n",
              "      <td>5</td>\n",
              "      <td>0.00</td>\n",
              "    </tr>\n",
              "    <tr>\n",
              "      <th>style</th>\n",
              "      <td>object</td>\n",
              "      <td>0</td>\n",
              "      <td>0.00</td>\n",
              "      <td>26</td>\n",
              "      <td>0.00</td>\n",
              "    </tr>\n",
              "    <tr>\n",
              "      <th>image</th>\n",
              "      <td>object</td>\n",
              "      <td>0</td>\n",
              "      <td>0.00</td>\n",
              "      <td>1209</td>\n",
              "      <td>0.06</td>\n",
              "    </tr>\n",
              "    <tr>\n",
              "      <th>reviewTime</th>\n",
              "      <td>object</td>\n",
              "      <td>0</td>\n",
              "      <td>0.00</td>\n",
              "      <td>4819</td>\n",
              "      <td>0.23</td>\n",
              "    </tr>\n",
              "    <tr>\n",
              "      <th>asin</th>\n",
              "      <td>object</td>\n",
              "      <td>0</td>\n",
              "      <td>0.00</td>\n",
              "      <td>98819</td>\n",
              "      <td>4.67</td>\n",
              "    </tr>\n",
              "    <tr>\n",
              "      <th>reviewerID</th>\n",
              "      <td>object</td>\n",
              "      <td>0</td>\n",
              "      <td>0.00</td>\n",
              "      <td>138996</td>\n",
              "      <td>6.57</td>\n",
              "    </tr>\n",
              "    <tr>\n",
              "      <th>reviewText</th>\n",
              "      <td>object</td>\n",
              "      <td>1</td>\n",
              "      <td>0.00</td>\n",
              "      <td>2114480</td>\n",
              "      <td>100.00</td>\n",
              "    </tr>\n",
              "    <tr>\n",
              "      <th>reviewerName</th>\n",
              "      <td>object</td>\n",
              "      <td>126</td>\n",
              "      <td>0.01</td>\n",
              "      <td>102003</td>\n",
              "      <td>4.82</td>\n",
              "    </tr>\n",
              "    <tr>\n",
              "      <th>summary</th>\n",
              "      <td>object</td>\n",
              "      <td>1693</td>\n",
              "      <td>0.08</td>\n",
              "      <td>1254949</td>\n",
              "      <td>59.35</td>\n",
              "    </tr>\n",
              "    <tr>\n",
              "      <th>vote</th>\n",
              "      <td>object</td>\n",
              "      <td>1825202</td>\n",
              "      <td>86.32</td>\n",
              "      <td>271</td>\n",
              "      <td>0.01</td>\n",
              "    </tr>\n",
              "  </tbody>\n",
              "</table>\n",
              "</div>"
            ],
            "text/plain": [
              "                   Type  Null values  ...  Unique values  % of unique values\n",
              "verified           bool            0  ...              2                0.00\n",
              "unixReviewTime    int64            0  ...           4819                0.23\n",
              "overall         float64            0  ...              5                0.00\n",
              "style            object            0  ...             26                0.00\n",
              "image            object            0  ...           1209                0.06\n",
              "reviewTime       object            0  ...           4819                0.23\n",
              "asin             object            0  ...          98819                4.67\n",
              "reviewerID       object            0  ...         138996                6.57\n",
              "reviewText       object            1  ...        2114480              100.00\n",
              "reviewerName     object          126  ...         102003                4.82\n",
              "summary          object         1693  ...        1254949               59.35\n",
              "vote             object      1825202  ...            271                0.01\n",
              "\n",
              "[12 rows x 5 columns]"
            ]
          },
          "metadata": {
            "tags": []
          },
          "execution_count": 12
        }
      ]
    },
    {
      "cell_type": "code",
      "metadata": {
        "id": "lp_2-Dx2OifT",
        "colab_type": "code",
        "outputId": "2c8d7f51-44a6-4abf-b56d-4be760857fcf",
        "colab": {
          "base_uri": "https://localhost:8080/",
          "height": 35
        }
      },
      "source": [
        "unique_reviewsText = infodf.loc['reviewText','Unique values']\n",
        "\n",
        "duplicate_reviewText = len(kr) - unique_reviewsText -1\n",
        "\n",
        "print(f'Now we have {duplicate_reviewText} duplicated reviews.')\n"
      ],
      "execution_count": 13,
      "outputs": [
        {
          "output_type": "stream",
          "text": [
            "Now we have 0 duplicated reviews.\n"
          ],
          "name": "stdout"
        }
      ]
    },
    {
      "cell_type": "code",
      "metadata": {
        "id": "I9obz0o8Rlcq",
        "colab_type": "code",
        "outputId": "8e4a5cce-0bca-4977-a2cb-f2ff164beb43",
        "colab": {
          "base_uri": "https://localhost:8080/",
          "height": 293
        }
      },
      "source": [
        "kr.head()"
      ],
      "execution_count": 14,
      "outputs": [
        {
          "output_type": "execute_result",
          "data": {
            "text/html": [
              "<div>\n",
              "<style scoped>\n",
              "    .dataframe tbody tr th:only-of-type {\n",
              "        vertical-align: middle;\n",
              "    }\n",
              "\n",
              "    .dataframe tbody tr th {\n",
              "        vertical-align: top;\n",
              "    }\n",
              "\n",
              "    .dataframe thead th {\n",
              "        text-align: right;\n",
              "    }\n",
              "</style>\n",
              "<table border=\"1\" class=\"dataframe\">\n",
              "  <thead>\n",
              "    <tr style=\"text-align: right;\">\n",
              "      <th></th>\n",
              "      <th>overall</th>\n",
              "      <th>verified</th>\n",
              "      <th>reviewTime</th>\n",
              "      <th>reviewerID</th>\n",
              "      <th>asin</th>\n",
              "      <th>style</th>\n",
              "      <th>reviewerName</th>\n",
              "      <th>reviewText</th>\n",
              "      <th>summary</th>\n",
              "      <th>unixReviewTime</th>\n",
              "      <th>vote</th>\n",
              "      <th>image</th>\n",
              "    </tr>\n",
              "  </thead>\n",
              "  <tbody>\n",
              "    <tr>\n",
              "      <th>0</th>\n",
              "      <td>4.0</td>\n",
              "      <td>True</td>\n",
              "      <td>07 3, 2014</td>\n",
              "      <td>A2LSKD2H9U8N0J</td>\n",
              "      <td>B000FA5KK0</td>\n",
              "      <td>{'Format:': ' Kindle Edition'}</td>\n",
              "      <td>sandra sue marsolek</td>\n",
              "      <td>pretty good story, a little exaggerated, but I...</td>\n",
              "      <td>pretty good story</td>\n",
              "      <td>1404345600</td>\n",
              "      <td>NaN</td>\n",
              "      <td>nan</td>\n",
              "    </tr>\n",
              "    <tr>\n",
              "      <th>1</th>\n",
              "      <td>5.0</td>\n",
              "      <td>True</td>\n",
              "      <td>05 26, 2014</td>\n",
              "      <td>A2QP13XTJND1QS</td>\n",
              "      <td>B000FA5KK0</td>\n",
              "      <td>{'Format:': ' Kindle Edition'}</td>\n",
              "      <td>Tpl</td>\n",
              "      <td>If you've read other max brand westerns, you k...</td>\n",
              "      <td>A very good book</td>\n",
              "      <td>1401062400</td>\n",
              "      <td>NaN</td>\n",
              "      <td>nan</td>\n",
              "    </tr>\n",
              "    <tr>\n",
              "      <th>2</th>\n",
              "      <td>5.0</td>\n",
              "      <td>True</td>\n",
              "      <td>09 16, 2016</td>\n",
              "      <td>A8WQ7MAG3HFOZ</td>\n",
              "      <td>B000FA5KK0</td>\n",
              "      <td>{'Format:': ' Kindle Edition'}</td>\n",
              "      <td>Alverne F. Anderson</td>\n",
              "      <td>Love Max, always a fun twist</td>\n",
              "      <td>Five Stars</td>\n",
              "      <td>1473984000</td>\n",
              "      <td>NaN</td>\n",
              "      <td>nan</td>\n",
              "    </tr>\n",
              "    <tr>\n",
              "      <th>3</th>\n",
              "      <td>5.0</td>\n",
              "      <td>True</td>\n",
              "      <td>03 3, 2016</td>\n",
              "      <td>A1E0MODSRYP7O</td>\n",
              "      <td>B000FA5KK0</td>\n",
              "      <td>{'Format:': ' Kindle Edition'}</td>\n",
              "      <td>Jeff</td>\n",
              "      <td>As usual for him, a good book</td>\n",
              "      <td>a good</td>\n",
              "      <td>1456963200</td>\n",
              "      <td>NaN</td>\n",
              "      <td>nan</td>\n",
              "    </tr>\n",
              "    <tr>\n",
              "      <th>4</th>\n",
              "      <td>5.0</td>\n",
              "      <td>True</td>\n",
              "      <td>09 10, 2015</td>\n",
              "      <td>AYUTCGVSM1H7T</td>\n",
              "      <td>B000FA5KK0</td>\n",
              "      <td>{'Format:': ' Kindle Edition'}</td>\n",
              "      <td>DEHS - EddyRapcon</td>\n",
              "      <td>MB is one of the original western writers and ...</td>\n",
              "      <td>A Western</td>\n",
              "      <td>1441843200</td>\n",
              "      <td>2</td>\n",
              "      <td>nan</td>\n",
              "    </tr>\n",
              "  </tbody>\n",
              "</table>\n",
              "</div>"
            ],
            "text/plain": [
              "   overall  verified   reviewTime  ... unixReviewTime vote image\n",
              "0      4.0      True   07 3, 2014  ...     1404345600  NaN   nan\n",
              "1      5.0      True  05 26, 2014  ...     1401062400  NaN   nan\n",
              "2      5.0      True  09 16, 2016  ...     1473984000  NaN   nan\n",
              "3      5.0      True   03 3, 2016  ...     1456963200  NaN   nan\n",
              "4      5.0      True  09 10, 2015  ...     1441843200    2   nan\n",
              "\n",
              "[5 rows x 12 columns]"
            ]
          },
          "metadata": {
            "tags": []
          },
          "execution_count": 14
        }
      ]
    },
    {
      "cell_type": "code",
      "metadata": {
        "id": "pPdOK53owD5Z",
        "colab_type": "code",
        "outputId": "f510f6ba-74b9-45c3-a066-3a7db77176a7",
        "colab": {
          "base_uri": "https://localhost:8080/",
          "height": 231
        }
      },
      "source": [
        "### What values are in the style column other than containing {'Format:': '\n",
        "\n",
        "print(kr[~kr['style'].str.contains('Format')]['style'].value_counts(normalize=True))\n",
        "print('\\n We got some null values in the style column.')\n",
        "print('\\n')\n",
        "\n",
        "### What values are in the image column other than containing an url\n",
        "\n",
        "print(kr[~kr['image'].str.contains('image')]['image'].value_counts(normalize=True))\n",
        "print('\\n We got some null values in the image column.')\n",
        "print('\\n')"
      ],
      "execution_count": 15,
      "outputs": [
        {
          "output_type": "stream",
          "text": [
            "nan    1.0\n",
            "Name: style, dtype: float64\n",
            "\n",
            " We got some null values in the style column.\n",
            "\n",
            "\n",
            "nan    1.0\n",
            "Name: image, dtype: float64\n",
            "\n",
            " We got some null values in the image column.\n",
            "\n",
            "\n"
          ],
          "name": "stdout"
        }
      ]
    },
    {
      "cell_type": "code",
      "metadata": {
        "id": "1EjVa2Srw7CI",
        "colab_type": "code",
        "outputId": "2869a5c8-e68a-4885-eab9-914aff90a817",
        "colab": {
          "base_uri": "https://localhost:8080/",
          "height": 482
        }
      },
      "source": [
        "### Modify the style values dropping out the 'Format' part.\n",
        "\n",
        "kr['style'] = kr['style'].replace({\"{'Format:': ' Kindle Edition'}\": 'Kindle Edition',\n",
        "                                   \"{'Format:': ' Hardcover'}\" : 'Hardcover', \n",
        "                                   \"{'Format:': ' Mass Market Paperback'}\":' Mass Market Paperback' ,\n",
        "                                   \"{'Format:': ' Paperback'}\":' Paperback' ,\n",
        "                                   '{\\'Format:\\': \\' 3.5\" disk\\'}':' 3.5\" disk ', \n",
        "                                   \"{'Format:': ' Audible Audiobook'}\":' Audible Audiobook',\n",
        "                                   \"{'Format:': ' Audio CD'}\":' Audio CD',\n",
        "                                   \"{'Format:': ' Audio Cassette'}\":' Audio Cassette',\n",
        "                                   \"{'Format:': ' Library Binding'}\":' Library Binding',\n",
        "                                   \"{'Format:': ' Kindle Edition with Audio/Video'}\":' Kindle Edition with Audio/Video',\n",
        "                                   \"{'Format:': ' MP3 CD'}\":' MP3 CD',\n",
        "                                   \"{'Format:': ' Leather Bound'}\":' Leather Bound',\n",
        "                                   \"{'Format:': ' Print Magazine'}\":' Print Magazine',\n",
        "                                   \"{'Format:': ' Perfect Paperback'}\":' Perfect Paperback', \n",
        "                                   \"{'Format:': ' School & Library Binding'}\":' School & Library Binding',\n",
        "                                   \"{'Format:': ' Digital'}\":' Digital',\n",
        "                                   \"{'Format:': ' Board book'}\":' Board book',\n",
        "                                   \"{'Format:': ' Flexibound'}\":' Flexibound',\n",
        "                                   \"{'Format:': ' Imitation Leather'}\":' Imitation Leather',\n",
        "                                   \"{'Format:': ' Unknown Binding'}\":' Unknown Binding', \n",
        "                                   \"{'Format:': ' Prime Video'}\":' Prime Video',\n",
        "                                   \"{'Format:': ' DVD'}\":' DVD',\n",
        "                                   \"{'Format:': ' Preloaded Digital Audio Player'}\":' Preloaded Digital Audio Player',\n",
        "                                   \"{'Format:': ' VHS Tape'}\":' VHS Tape',\n",
        "                                   \"{'Format:': ' CD-ROM'}\":' CD-ROM',\n",
        "                                   \"{'Format:': ' Comic'}\":' Comic'  })\n",
        "\n",
        "kr['style'].unique().tolist()\n"
      ],
      "execution_count": 16,
      "outputs": [
        {
          "output_type": "execute_result",
          "data": {
            "text/plain": [
              "['Kindle Edition',\n",
              " 'Hardcover',\n",
              " ' Mass Market Paperback',\n",
              " 'nan',\n",
              " ' Paperback',\n",
              " ' 3.5\" disk ',\n",
              " ' Audible Audiobook',\n",
              " ' Audio CD',\n",
              " ' Audio Cassette',\n",
              " ' Library Binding',\n",
              " ' Kindle Edition with Audio/Video',\n",
              " ' MP3 CD',\n",
              " ' Leather Bound',\n",
              " ' Print Magazine',\n",
              " ' Perfect Paperback',\n",
              " ' School & Library Binding',\n",
              " ' Digital',\n",
              " ' Board book',\n",
              " ' Flexibound',\n",
              " ' Imitation Leather',\n",
              " ' Prime Video',\n",
              " ' DVD',\n",
              " ' Preloaded Digital Audio Player',\n",
              " ' VHS Tape',\n",
              " ' CD-ROM',\n",
              " ' Comic']"
            ]
          },
          "metadata": {
            "tags": []
          },
          "execution_count": 16
        }
      ]
    },
    {
      "cell_type": "code",
      "metadata": {
        "id": "2FOLl7RnyF7w",
        "colab_type": "code",
        "outputId": "b952b0f5-9909-4892-c1db-fbbf3742af5d",
        "colab": {
          "base_uri": "https://localhost:8080/",
          "height": 53
        }
      },
      "source": [
        "### Notice: in the image column the null values are marked as 'nan'\n",
        "\n",
        "print(f\"Number of null values marked as 'nan' :{len(kr[(kr['image']== 'nan')])}\")\n",
        "print(f\"Number of proper NaN's: {(kr['image'].isnull().sum())}\")\n",
        "\n",
        "### For the propourses of this analysis, I'm turning the values to True if there is an url and Fales if there's not.\n",
        "\n",
        "kr['image'] = kr['image'].replace({'nan':False})\n"
      ],
      "execution_count": 17,
      "outputs": [
        {
          "output_type": "stream",
          "text": [
            "Number of null values marked as 'nan' :2113175\n",
            "Number of proper NaN's: 0\n"
          ],
          "name": "stdout"
        }
      ]
    },
    {
      "cell_type": "code",
      "metadata": {
        "id": "YR1qZGmz811H",
        "colab_type": "code",
        "outputId": "50c4c55b-6aea-4726-f943-fc891c2bbf5b",
        "colab": {
          "base_uri": "https://localhost:8080/",
          "height": 382
        }
      },
      "source": [
        "### Turning the image column into a Boolean column: True if the review does have an url for the image, False otherwise.\n",
        "\n",
        "kr['image'] = kr['image'].replace(to_replace=kr[~(kr['image'] == False)]['image'].tolist(),value=True)\n",
        "print(kr['image'].describe())\n",
        "\n",
        "kr.head()"
      ],
      "execution_count": 18,
      "outputs": [
        {
          "output_type": "stream",
          "text": [
            "count     2114481\n",
            "unique          2\n",
            "top         False\n",
            "freq      2113175\n",
            "Name: image, dtype: object\n"
          ],
          "name": "stdout"
        },
        {
          "output_type": "execute_result",
          "data": {
            "text/html": [
              "<div>\n",
              "<style scoped>\n",
              "    .dataframe tbody tr th:only-of-type {\n",
              "        vertical-align: middle;\n",
              "    }\n",
              "\n",
              "    .dataframe tbody tr th {\n",
              "        vertical-align: top;\n",
              "    }\n",
              "\n",
              "    .dataframe thead th {\n",
              "        text-align: right;\n",
              "    }\n",
              "</style>\n",
              "<table border=\"1\" class=\"dataframe\">\n",
              "  <thead>\n",
              "    <tr style=\"text-align: right;\">\n",
              "      <th></th>\n",
              "      <th>overall</th>\n",
              "      <th>verified</th>\n",
              "      <th>reviewTime</th>\n",
              "      <th>reviewerID</th>\n",
              "      <th>asin</th>\n",
              "      <th>style</th>\n",
              "      <th>reviewerName</th>\n",
              "      <th>reviewText</th>\n",
              "      <th>summary</th>\n",
              "      <th>unixReviewTime</th>\n",
              "      <th>vote</th>\n",
              "      <th>image</th>\n",
              "    </tr>\n",
              "  </thead>\n",
              "  <tbody>\n",
              "    <tr>\n",
              "      <th>0</th>\n",
              "      <td>4.0</td>\n",
              "      <td>True</td>\n",
              "      <td>07 3, 2014</td>\n",
              "      <td>A2LSKD2H9U8N0J</td>\n",
              "      <td>B000FA5KK0</td>\n",
              "      <td>Kindle Edition</td>\n",
              "      <td>sandra sue marsolek</td>\n",
              "      <td>pretty good story, a little exaggerated, but I...</td>\n",
              "      <td>pretty good story</td>\n",
              "      <td>1404345600</td>\n",
              "      <td>NaN</td>\n",
              "      <td>False</td>\n",
              "    </tr>\n",
              "    <tr>\n",
              "      <th>1</th>\n",
              "      <td>5.0</td>\n",
              "      <td>True</td>\n",
              "      <td>05 26, 2014</td>\n",
              "      <td>A2QP13XTJND1QS</td>\n",
              "      <td>B000FA5KK0</td>\n",
              "      <td>Kindle Edition</td>\n",
              "      <td>Tpl</td>\n",
              "      <td>If you've read other max brand westerns, you k...</td>\n",
              "      <td>A very good book</td>\n",
              "      <td>1401062400</td>\n",
              "      <td>NaN</td>\n",
              "      <td>False</td>\n",
              "    </tr>\n",
              "    <tr>\n",
              "      <th>2</th>\n",
              "      <td>5.0</td>\n",
              "      <td>True</td>\n",
              "      <td>09 16, 2016</td>\n",
              "      <td>A8WQ7MAG3HFOZ</td>\n",
              "      <td>B000FA5KK0</td>\n",
              "      <td>Kindle Edition</td>\n",
              "      <td>Alverne F. Anderson</td>\n",
              "      <td>Love Max, always a fun twist</td>\n",
              "      <td>Five Stars</td>\n",
              "      <td>1473984000</td>\n",
              "      <td>NaN</td>\n",
              "      <td>False</td>\n",
              "    </tr>\n",
              "    <tr>\n",
              "      <th>3</th>\n",
              "      <td>5.0</td>\n",
              "      <td>True</td>\n",
              "      <td>03 3, 2016</td>\n",
              "      <td>A1E0MODSRYP7O</td>\n",
              "      <td>B000FA5KK0</td>\n",
              "      <td>Kindle Edition</td>\n",
              "      <td>Jeff</td>\n",
              "      <td>As usual for him, a good book</td>\n",
              "      <td>a good</td>\n",
              "      <td>1456963200</td>\n",
              "      <td>NaN</td>\n",
              "      <td>False</td>\n",
              "    </tr>\n",
              "    <tr>\n",
              "      <th>4</th>\n",
              "      <td>5.0</td>\n",
              "      <td>True</td>\n",
              "      <td>09 10, 2015</td>\n",
              "      <td>AYUTCGVSM1H7T</td>\n",
              "      <td>B000FA5KK0</td>\n",
              "      <td>Kindle Edition</td>\n",
              "      <td>DEHS - EddyRapcon</td>\n",
              "      <td>MB is one of the original western writers and ...</td>\n",
              "      <td>A Western</td>\n",
              "      <td>1441843200</td>\n",
              "      <td>2</td>\n",
              "      <td>False</td>\n",
              "    </tr>\n",
              "  </tbody>\n",
              "</table>\n",
              "</div>"
            ],
            "text/plain": [
              "   overall  verified   reviewTime  ... unixReviewTime vote  image\n",
              "0      4.0      True   07 3, 2014  ...     1404345600  NaN  False\n",
              "1      5.0      True  05 26, 2014  ...     1401062400  NaN  False\n",
              "2      5.0      True  09 16, 2016  ...     1473984000  NaN  False\n",
              "3      5.0      True   03 3, 2016  ...     1456963200  NaN  False\n",
              "4      5.0      True  09 10, 2015  ...     1441843200    2  False\n",
              "\n",
              "[5 rows x 12 columns]"
            ]
          },
          "metadata": {
            "tags": []
          },
          "execution_count": 18
        }
      ]
    },
    {
      "cell_type": "code",
      "metadata": {
        "id": "ueOl_oqLYooA",
        "colab_type": "code",
        "outputId": "f58dc3bd-eed1-4cd8-dc26-6e8394df833a",
        "colab": {
          "base_uri": "https://localhost:8080/",
          "height": 522
        }
      },
      "source": [
        "### I'm suspicious reviewTime is the same as unixreviewtime, I'll verify this.\n",
        "\n",
        "print(f\"The number of rows with differences is {(pd.to_datetime(kr['reviewTime'],format='%m %d, %Y') != pd.to_datetime(kr['unixReviewTime'], unit='s')).sum()}, I'll consider then if drop one of these columns.\")\n",
        "print(\"For now, I'll split the reviewTime into day, month, year and day of the week.\") #, as mark the season.\")\n",
        "\n",
        "kr['reviewTime'] = pd.to_datetime(kr['reviewTime'], format='%m %d, %Y')\n",
        "kr['reviewyear'] = kr['reviewTime'].dt.year\n",
        "kr['reviewmonth'] = kr['reviewTime'].dt.month\n",
        "kr['reviewday'] = kr['reviewTime'].dt.day\n",
        "\n",
        "kr['season'] = [''] * len(kr)\n",
        "\n",
        "kr.loc[(kr['reviewmonth'] == 12) | (kr['reviewmonth'] == 1) | (kr['reviewmonth'] == 2),'season'] = 'winter'\n",
        "kr.loc[(kr['reviewmonth'] == 3) | (kr['reviewmonth'] == 4) | (kr['reviewmonth'] == 5),'season'] = 'spring'\n",
        "kr.loc[(kr['reviewmonth'] == 6) | (kr['reviewmonth'] == 7) | (kr['reviewmonth'] == 8),'season'] = 'summer'\n",
        "kr.loc[(kr['reviewmonth'] == 9) | (kr['reviewmonth'] == 10) | (kr['reviewmonth'] == 11),'season'] = 'autumn'\n",
        "\n",
        "\n",
        "\n",
        "kr.head()\n"
      ],
      "execution_count": 19,
      "outputs": [
        {
          "output_type": "stream",
          "text": [
            "The number of rows with differences is 0, I'll consider then if drop one of these columns.\n",
            "For now, I'll split the reviewTime into day, month, year and day of the week.\n"
          ],
          "name": "stdout"
        },
        {
          "output_type": "execute_result",
          "data": {
            "text/html": [
              "<div>\n",
              "<style scoped>\n",
              "    .dataframe tbody tr th:only-of-type {\n",
              "        vertical-align: middle;\n",
              "    }\n",
              "\n",
              "    .dataframe tbody tr th {\n",
              "        vertical-align: top;\n",
              "    }\n",
              "\n",
              "    .dataframe thead th {\n",
              "        text-align: right;\n",
              "    }\n",
              "</style>\n",
              "<table border=\"1\" class=\"dataframe\">\n",
              "  <thead>\n",
              "    <tr style=\"text-align: right;\">\n",
              "      <th></th>\n",
              "      <th>overall</th>\n",
              "      <th>verified</th>\n",
              "      <th>reviewTime</th>\n",
              "      <th>reviewerID</th>\n",
              "      <th>asin</th>\n",
              "      <th>style</th>\n",
              "      <th>reviewerName</th>\n",
              "      <th>reviewText</th>\n",
              "      <th>summary</th>\n",
              "      <th>unixReviewTime</th>\n",
              "      <th>vote</th>\n",
              "      <th>image</th>\n",
              "      <th>reviewyear</th>\n",
              "      <th>reviewmonth</th>\n",
              "      <th>reviewday</th>\n",
              "      <th>season</th>\n",
              "    </tr>\n",
              "  </thead>\n",
              "  <tbody>\n",
              "    <tr>\n",
              "      <th>0</th>\n",
              "      <td>4.0</td>\n",
              "      <td>True</td>\n",
              "      <td>2014-07-03</td>\n",
              "      <td>A2LSKD2H9U8N0J</td>\n",
              "      <td>B000FA5KK0</td>\n",
              "      <td>Kindle Edition</td>\n",
              "      <td>sandra sue marsolek</td>\n",
              "      <td>pretty good story, a little exaggerated, but I...</td>\n",
              "      <td>pretty good story</td>\n",
              "      <td>1404345600</td>\n",
              "      <td>NaN</td>\n",
              "      <td>False</td>\n",
              "      <td>2014</td>\n",
              "      <td>7</td>\n",
              "      <td>3</td>\n",
              "      <td>summer</td>\n",
              "    </tr>\n",
              "    <tr>\n",
              "      <th>1</th>\n",
              "      <td>5.0</td>\n",
              "      <td>True</td>\n",
              "      <td>2014-05-26</td>\n",
              "      <td>A2QP13XTJND1QS</td>\n",
              "      <td>B000FA5KK0</td>\n",
              "      <td>Kindle Edition</td>\n",
              "      <td>Tpl</td>\n",
              "      <td>If you've read other max brand westerns, you k...</td>\n",
              "      <td>A very good book</td>\n",
              "      <td>1401062400</td>\n",
              "      <td>NaN</td>\n",
              "      <td>False</td>\n",
              "      <td>2014</td>\n",
              "      <td>5</td>\n",
              "      <td>26</td>\n",
              "      <td>spring</td>\n",
              "    </tr>\n",
              "    <tr>\n",
              "      <th>2</th>\n",
              "      <td>5.0</td>\n",
              "      <td>True</td>\n",
              "      <td>2016-09-16</td>\n",
              "      <td>A8WQ7MAG3HFOZ</td>\n",
              "      <td>B000FA5KK0</td>\n",
              "      <td>Kindle Edition</td>\n",
              "      <td>Alverne F. Anderson</td>\n",
              "      <td>Love Max, always a fun twist</td>\n",
              "      <td>Five Stars</td>\n",
              "      <td>1473984000</td>\n",
              "      <td>NaN</td>\n",
              "      <td>False</td>\n",
              "      <td>2016</td>\n",
              "      <td>9</td>\n",
              "      <td>16</td>\n",
              "      <td>autumn</td>\n",
              "    </tr>\n",
              "    <tr>\n",
              "      <th>3</th>\n",
              "      <td>5.0</td>\n",
              "      <td>True</td>\n",
              "      <td>2016-03-03</td>\n",
              "      <td>A1E0MODSRYP7O</td>\n",
              "      <td>B000FA5KK0</td>\n",
              "      <td>Kindle Edition</td>\n",
              "      <td>Jeff</td>\n",
              "      <td>As usual for him, a good book</td>\n",
              "      <td>a good</td>\n",
              "      <td>1456963200</td>\n",
              "      <td>NaN</td>\n",
              "      <td>False</td>\n",
              "      <td>2016</td>\n",
              "      <td>3</td>\n",
              "      <td>3</td>\n",
              "      <td>spring</td>\n",
              "    </tr>\n",
              "    <tr>\n",
              "      <th>4</th>\n",
              "      <td>5.0</td>\n",
              "      <td>True</td>\n",
              "      <td>2015-09-10</td>\n",
              "      <td>AYUTCGVSM1H7T</td>\n",
              "      <td>B000FA5KK0</td>\n",
              "      <td>Kindle Edition</td>\n",
              "      <td>DEHS - EddyRapcon</td>\n",
              "      <td>MB is one of the original western writers and ...</td>\n",
              "      <td>A Western</td>\n",
              "      <td>1441843200</td>\n",
              "      <td>2</td>\n",
              "      <td>False</td>\n",
              "      <td>2015</td>\n",
              "      <td>9</td>\n",
              "      <td>10</td>\n",
              "      <td>autumn</td>\n",
              "    </tr>\n",
              "  </tbody>\n",
              "</table>\n",
              "</div>"
            ],
            "text/plain": [
              "   overall  verified reviewTime  ... reviewmonth reviewday  season\n",
              "0      4.0      True 2014-07-03  ...           7         3  summer\n",
              "1      5.0      True 2014-05-26  ...           5        26  spring\n",
              "2      5.0      True 2016-09-16  ...           9        16  autumn\n",
              "3      5.0      True 2016-03-03  ...           3         3  spring\n",
              "4      5.0      True 2015-09-10  ...           9        10  autumn\n",
              "\n",
              "[5 rows x 16 columns]"
            ]
          },
          "metadata": {
            "tags": []
          },
          "execution_count": 19
        }
      ]
    },
    {
      "cell_type": "code",
      "metadata": {
        "id": "6cuOTwYxVkcp",
        "colab_type": "code",
        "colab": {}
      },
      "source": [
        "# ## Is it real that the reviewerID are unique associated to the reviewerName?\n",
        "\n",
        "# ###############################################################################\n",
        "# ###############################################################################\n",
        "# ###############################################################################\n",
        "\n",
        "# # Do not run unless feeling with time to spare. I have run it once and verify that:\n",
        "\n",
        "# #         -----> The reviewerID is _____ towards the reviewerName. <-----\n",
        "\n",
        "# ###############################################################################\n",
        "# ###############################################################################\n",
        "# ###############################################################################\n",
        "\n",
        "# for i in kr['reviewerID']:\n",
        "#   if kr.loc[kr['reviewerID'] == i,'reviewerName'].nunique() >1:\n",
        "#     print(i)\n",
        "\n"
      ],
      "execution_count": 0,
      "outputs": []
    },
    {
      "cell_type": "code",
      "metadata": {
        "id": "cjJXFOf-Z3h1",
        "colab_type": "code",
        "colab": {}
      },
      "source": [
        ""
      ],
      "execution_count": 0,
      "outputs": []
    },
    {
      "cell_type": "markdown",
      "metadata": {
        "id": "vkVaGBDoDhV0",
        "colab_type": "text"
      },
      "source": [
        "###Store the hole dataframe into  a pickle"
      ]
    },
    {
      "cell_type": "code",
      "metadata": {
        "id": "JIyjQMScDlsG",
        "colab_type": "code",
        "colab": {}
      },
      "source": [
        "# kr.to_pickle('kr.pkl')\n",
        "# files.download('kr.pkl')\n",
        "\n",
        "# reviews_all = kr[['overall','reviewText','summary']]\n"
      ],
      "execution_count": 0,
      "outputs": []
    },
    {
      "cell_type": "markdown",
      "metadata": {
        "id": "78FgjTep8vKM",
        "colab_type": "text"
      },
      "source": [
        "### How the the grade of the product are distributed?\n"
      ]
    },
    {
      "cell_type": "code",
      "metadata": {
        "id": "0QWS_CNh9Bo8",
        "colab_type": "code",
        "colab": {
          "base_uri": "https://localhost:8080/",
          "height": 404
        },
        "outputId": "aabc4a3f-5991-48e0-e7bc-2405e0a07778"
      },
      "source": [
        "print(kr['overall'].value_counts(normalize=True))\n",
        "print('The grades are skewed to five.')\n",
        "sns.distplot(kr.overall);\n"
      ],
      "execution_count": 20,
      "outputs": [
        {
          "output_type": "stream",
          "text": [
            "5.0    0.605339\n",
            "4.0    0.252951\n",
            "3.0    0.089302\n",
            "2.0    0.030742\n",
            "1.0    0.021665\n",
            "Name: overall, dtype: float64\n",
            "The grades are skewed to five.\n"
          ],
          "name": "stdout"
        },
        {
          "output_type": "display_data",
          "data": {
            "image/png": "[encoded data removed]",
            "text/plain": [
              "<Figure size 432x288 with 1 Axes>"
            ]
          },
          "metadata": {
            "tags": []
          }
        }
      ]
    },
    {
      "cell_type": "markdown",
      "metadata": {
        "id": "xTBCVFh8R8qq",
        "colab_type": "text"
      },
      "source": [
        "### Next I want to see what are the most common words used in the reviews texts.\n",
        "\n",
        "\n",
        "## I'll need to divide the reviews by rate (overall) to look in detail."
      ]
    },
    {
      "cell_type": "code",
      "metadata": {
        "id": "Wpbknb8c8E3k",
        "colab_type": "code",
        "outputId": "a6c8d1c8-de29-4ae0-f73b-18ac5d8dd4b0",
        "colab": {
          "base_uri": "https://localhost:8080/",
          "height": 214
        }
      },
      "source": [
        "reviews_5 = kr[kr['overall']==5.0]\n",
        "reviews_4 = kr[kr['overall']==4.0]\n",
        "reviews_3 = kr[kr['overall']==3.0]\n",
        "reviews_2 = kr[kr['overall']==2.0]\n",
        "reviews_1 = kr[kr['overall']==1.0]\n",
        "\n",
        "print('The original lenghts of the sub datasets.')\n",
        "print(f'There are {len(reviews_5)} reviews with score 5. \\n')\n",
        "print(f'There are {len(reviews_4)} reviews with score 4. \\n')\n",
        "print(f'There are {len(reviews_3)} reviews with score 3. \\n')\n",
        "print(f'There are {len(reviews_2)} reviews with score 2. \\n')\n",
        "print(f'There are {len(reviews_1)} reviews with score 1. \\n')\n",
        "\n"
      ],
      "execution_count": 21,
      "outputs": [
        {
          "output_type": "stream",
          "text": [
            "The original lenghts of the sub datasets.\n",
            "There are 1279978 reviews with score 5. \n",
            "\n",
            "There are 534861 reviews with score 4. \n",
            "\n",
            "There are 188827 reviews with score 3. \n",
            "\n",
            "There are 65004 reviews with score 2. \n",
            "\n",
            "There are 45811 reviews with score 1. \n",
            "\n"
          ],
          "name": "stdout"
        }
      ]
    },
    {
      "cell_type": "markdown",
      "metadata": {
        "id": "tmZP3CThUGoU",
        "colab_type": "text"
      },
      "source": [
        "# Sampling. Due the size of my dataset, I'm going to take a sample of 10%."
      ]
    },
    {
      "cell_type": "code",
      "metadata": {
        "id": "aqKCcYcIUPxx",
        "colab_type": "code",
        "outputId": "c161575f-ed5d-4024-f9d4-af7456e97356",
        "colab": {
          "base_uri": "https://localhost:8080/",
          "height": 214
        }
      },
      "source": [
        "reviews_1 = reviews_1.sample(int(round(len(reviews_1)/10,2)))\n",
        "reviews_2 = reviews_2.sample(int(round(len(reviews_2)/10,2)))\n",
        "reviews_3 = reviews_3.sample(int(round(len(reviews_3)/10,2)))\n",
        "reviews_4 = reviews_4.sample(int(round(len(reviews_4)/10,2)))\n",
        "reviews_5 = reviews_5.sample(int(round(len(reviews_5)/10,2)))\n",
        "\n",
        "print('The sample lenghts of the sub datasets.')\n",
        "print(f'There are {len(reviews_5)} reviews with score 5. \\n')\n",
        "print(f'There are {len(reviews_4)} reviews with score 4. \\n')\n",
        "print(f'There are {len(reviews_3)} reviews with score 3. \\n')\n",
        "print(f'There are {len(reviews_2)} reviews with score 2. \\n')\n",
        "print(f'There are {len(reviews_1)} reviews with score 1. \\n')"
      ],
      "execution_count": 22,
      "outputs": [
        {
          "output_type": "stream",
          "text": [
            "The sample lenghts of the sub datasets.\n",
            "There are 127997 reviews with score 5. \n",
            "\n",
            "There are 53486 reviews with score 4. \n",
            "\n",
            "There are 18882 reviews with score 3. \n",
            "\n",
            "There are 6500 reviews with score 2. \n",
            "\n",
            "There are 4581 reviews with score 1. \n",
            "\n"
          ],
          "name": "stdout"
        }
      ]
    },
    {
      "cell_type": "markdown",
      "metadata": {
        "id": "kjeVjcrsvU7e",
        "colab_type": "text"
      },
      "source": [
        "#Export my samples."
      ]
    },
    {
      "cell_type": "code",
      "metadata": {
        "id": "0_G8C-c2vZAj",
        "colab_type": "code",
        "colab": {}
      },
      "source": [
        "reviews_1.to_pickle('reviews_1_sample.pkl')\n",
        "reviews_2.to_pickle('reviews_2_sample.pkl')\n",
        "reviews_3.to_pickle('reviews_3_sample.pkl')\n",
        "reviews_4.to_pickle('reviews_4_sample.pkl')\n",
        "reviews_5.to_pickle('reviews_5_sample.pkl')"
      ],
      "execution_count": 0,
      "outputs": []
    },
    {
      "cell_type": "code",
      "metadata": {
        "id": "TOhbxeZMvZku",
        "colab_type": "code",
        "colab": {}
      },
      "source": [
        ""
      ],
      "execution_count": 0,
      "outputs": []
    },
    {
      "cell_type": "code",
      "metadata": {
        "id": "euPLjNcPvZhP",
        "colab_type": "code",
        "colab": {}
      },
      "source": [
        ""
      ],
      "execution_count": 0,
      "outputs": []
    },
    {
      "cell_type": "code",
      "metadata": {
        "id": "7AriiWpKvZbl",
        "colab_type": "code",
        "colab": {}
      },
      "source": [
        "######### ######## ######## ######## ######## ####### End of this notebook ###### ######## ######## ######## ######## ######## "
      ],
      "execution_count": 0,
      "outputs": []
    },
    {
      "cell_type": "markdown",
      "metadata": {
        "id": "S3vVU2YrvnCW",
        "colab_type": "text"
      },
      "source": [
        "# Draft"
      ]
    },
    {
      "cell_type": "code",
      "metadata": {
        "id": "Pfjc8hHqTwSF",
        "colab_type": "code",
        "colab": {}
      },
      "source": [
        ""
      ],
      "execution_count": 0,
      "outputs": []
    }
  ]
}